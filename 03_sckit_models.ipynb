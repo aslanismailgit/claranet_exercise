{
 "cells": [
  {
   "cell_type": "markdown",
   "metadata": {},
   "source": [
    "## Sckit Learn Machine Learning Models"
   ]
  },
  {
   "cell_type": "code",
   "execution_count": 1,
   "metadata": {},
   "outputs": [],
   "source": [
    "import matplotlib.pyplot as plt\n",
    "import pandas as pd\n",
    "import numpy as np\n",
    "import sys\n",
    "import pickle\n",
    "import time"
   ]
  },
  {
   "cell_type": "markdown",
   "metadata": {},
   "source": [
    "### Read data and remove outliers"
   ]
  },
  {
   "cell_type": "code",
   "execution_count": 2,
   "metadata": {},
   "outputs": [
    {
     "name": "stdout",
     "output_type": "stream",
     "text": [
      "(15375, 4) (15375,) (15375,)\n"
     ]
    }
   ],
   "source": [
    "df = pd.read_csv(\"./data/df_slow.csv\")\n",
    "summary = df[\"query_time_ns\"]\\\n",
    "    .describe(percentiles=[0.10, 0.20, 0.30, 0.40, 0.50, 0.60, 0.70, 0.80, 0.90, 0.95, 0.99, 1.00])\n",
    "mask = (df[\"query_time_ns\"]<summary[\"99%\"])\n",
    "sum(mask)\n",
    "\n",
    "df = df[mask]\n",
    "\n",
    "X = df[\"clean_query\"]\n",
    "y = df['query_time_ns']\n",
    "print(df.shape, X.shape, y.shape)"
   ]
  },
  {
   "cell_type": "markdown",
   "metadata": {},
   "source": [
    "# Feature Extraction TF-IDF \n",
    "TF-IDF works by penalizing the common words by assigning them lower \n",
    "weights while giving importance to words which are rare in the entire \n",
    "corpus but appear in good numbers in few documents."
   ]
  },
  {
   "cell_type": "code",
   "execution_count": 3,
   "metadata": {},
   "outputs": [],
   "source": [
    "from sklearn.model_selection import train_test_split\n",
    "from sklearn.feature_extraction.text import TfidfVectorizer"
   ]
  },
  {
   "cell_type": "code",
   "execution_count": 4,
   "metadata": {},
   "outputs": [
    {
     "data": {
      "text/plain": [
       "((10762,), (3229,), (1384,), (10762,), (3229,), (1384,))"
      ]
     },
     "execution_count": 4,
     "metadata": {},
     "output_type": "execute_result"
    }
   ],
   "source": [
    "xtrain, xvalid, ytrain, yvalid = train_test_split(X, y, test_size=0.3)\n",
    "xvalid, xtest, yvalid, ytest = train_test_split(xvalid, yvalid, test_size=0.3)\n",
    "xtrain.shape, xvalid.shape, xtest.shape, ytrain.shape, yvalid.shape, ytest.shape"
   ]
  },
  {
   "cell_type": "markdown",
   "metadata": {},
   "source": [
    "### TfidfVectorizer have to fit only train data"
   ]
  },
  {
   "cell_type": "code",
   "execution_count": 5,
   "metadata": {},
   "outputs": [
    {
     "name": "stdout",
     "output_type": "stream",
     "text": [
      "Number of features -tokens- in train set : 876\n"
     ]
    },
    {
     "data": {
      "text/plain": [
       "((10762, 876), (3229, 876), (1384, 876), (10762,), (3229,), (1384,))"
      ]
     },
     "execution_count": 5,
     "metadata": {},
     "output_type": "execute_result"
    }
   ],
   "source": [
    "tfidf_vectorizer = TfidfVectorizer()\n",
    "tfidf = tfidf_vectorizer.fit(xtrain)\n",
    "\n",
    "xtrain_tfidf = tfidf_vectorizer.transform(xtrain)\n",
    "xvalid_tfidf = tfidf_vectorizer.transform(xvalid)\n",
    "xtest_tfidf = tfidf_vectorizer.transform(xtest)\n",
    "\n",
    "print(\"Number of features -tokens- in train set :\", len(tfidf.get_feature_names()))\n",
    "\n",
    "xtrain_tfidf.shape, xvalid_tfidf.shape, xtest_tfidf.shape, ytrain.shape, yvalid.shape, ytest.shape"
   ]
  },
  {
   "cell_type": "markdown",
   "metadata": {},
   "source": [
    "Don't need standadization since TfidfVectorizer combines all \n",
    "the options of CountVectorizer and TfidfTransformer in a single model"
   ]
  },
  {
   "cell_type": "markdown",
   "metadata": {},
   "source": [
    "### Prepare a function to evaluate models"
   ]
  },
  {
   "cell_type": "code",
   "execution_count": 6,
   "metadata": {},
   "outputs": [],
   "source": [
    "from sklearn.metrics import mean_squared_error\n",
    "from sklearn.metrics import mean_absolute_error\n",
    "from sklearn.metrics import r2_score"
   ]
  },
  {
   "cell_type": "markdown",
   "metadata": {},
   "source": [
    "Create a function to evaluate each model. I will evaluate each model by size, prediction time, RMSE, MAE and r2 for train, validation and test sets.\n",
    "The coefficient of determination: 1 is perfect prediction\n",
    "r2  computes how much better the regression line fits the data \n",
    "than the mean line.\n",
    "Another way to look at this formula is to compare the variance \n",
    "around the mean line to the variation around the regression line"
   ]
  },
  {
   "cell_type": "code",
   "execution_count": 7,
   "metadata": {},
   "outputs": [],
   "source": [
    "def eval_model(model, x, y, data_type, prn = False):\n",
    "    start = time.time()\n",
    "    pred = model.predict(x)\n",
    "    pred_time = np.round((time.time() - start),4)\n",
    "    if prn:\n",
    "        print(f\"{data_type} - Root mean squared error     : {(mean_squared_error(y, pred, squared=False)):.2f}\")\n",
    "        print(f\"{data_type} - Mean absolute error         : {(mean_absolute_error(y, pred)):.2f}\")\n",
    "        print(f\"{data_type} - Coefficient of determination: {(r2_score(y, pred)):.2f}\")\n",
    "        print(f\"{data_type} - Time elapsed                : {pred_time}\\n\")\n",
    "    return np.round(mean_squared_error(y, pred, squared=False),1), \\\n",
    "            np.round(mean_absolute_error(y, pred),1), \\\n",
    "            np.round(r2_score(y, pred),2), \\\n",
    "            pred_time\n"
   ]
  },
  {
   "cell_type": "markdown",
   "metadata": {},
   "source": [
    "Create a dataframe to collect results"
   ]
  },
  {
   "cell_type": "code",
   "execution_count": 8,
   "metadata": {},
   "outputs": [],
   "source": [
    "# create a dataframe to collect the results if not already created\n",
    "try:\n",
    "    df_performance = pd.read_csv(\"./data/df_performance.csv\")\n",
    "    df_performance.set_index(\"Model\", inplace=True)\n",
    "\n",
    "except:\n",
    "    df_performance = pd.DataFrame(columns=[\"Size\", \"Train RMSE\", \"Train MAE\", \"Train R2\", \"Time Elapsed\",\\\n",
    "                                                  \"Valid RMSE\", \"Valid MAE\", \"Valid R2\", \"Valid Elapsed\",\n",
    "                                                   \"Test RMSE\", \"Test MAE\", \"Test R2\", \"Test Elapsed\" ])\n"
   ]
  },
  {
   "cell_type": "markdown",
   "metadata": {},
   "source": [
    "### Linear Regression"
   ]
  },
  {
   "cell_type": "code",
   "execution_count": 9,
   "metadata": {},
   "outputs": [
    {
     "data": {
      "text/plain": [
       "LinearRegression()"
      ]
     },
     "execution_count": 9,
     "metadata": {},
     "output_type": "execute_result"
    }
   ],
   "source": [
    "from sklearn  import linear_model\n",
    "\n",
    "linreg = linear_model.LinearRegression()\n",
    "linreg.fit(xtrain_tfidf, ytrain) \n"
   ]
  },
  {
   "cell_type": "code",
   "execution_count": 10,
   "metadata": {},
   "outputs": [
    {
     "name": "stdout",
     "output_type": "stream",
     "text": [
      "linreg size                         : 7432\n",
      "Train - Root mean squared error     : 109958.57\n",
      "Train - Mean absolute error         : 38663.77\n",
      "Train - Coefficient of determination: 0.98\n",
      "Train - Time elapsed                : 0.001\n",
      "\n",
      "Valid - Root mean squared error     : 143922.26\n",
      "Valid - Mean absolute error         : 51397.75\n",
      "Valid - Coefficient of determination: 0.97\n",
      "Valid - Time elapsed                : 0.0\n",
      "\n",
      "Test - Root mean squared error     : 138415.11\n",
      "Test - Mean absolute error         : 52290.40\n",
      "Test - Coefficient of determination: 0.97\n",
      "Test - Time elapsed                : 0.0\n",
      "\n"
     ]
    }
   ],
   "source": [
    "model_name = \"linreg\"\n",
    "p = pickle.dumps(eval(model_name))\n",
    "model_size = sys.getsizeof(p)\n",
    "print(f\"{model_name} size                         : {model_size}\")\n",
    "tr_rmse, tr_mae, tr_r2, tr_time_elapsed  = eval_model(eval(model_name), xtrain_tfidf, ytrain, data_type=\"Train\", prn = True)\n",
    "val_rmse, val_mae, val_r2, val_time_elapsed  = eval_model(eval(model_name), xvalid_tfidf, yvalid, data_type=\"Valid\", prn = True)\n",
    "test_rmse, test_mae, test_r2, test_time_elapsed  = eval_model(eval(model_name), xtest_tfidf, ytest, data_type=\"Test\", prn = True)"
   ]
  },
  {
   "cell_type": "code",
   "execution_count": 11,
   "metadata": {
    "scrolled": true
   },
   "outputs": [
    {
     "data": {
      "image/png": "[encoded data removed]",
      "text/plain": [
       "<Figure size 432x288 with 1 Axes>"
      ]
     },
     "metadata": {
      "needs_background": "light"
     },
     "output_type": "display_data"
    }
   ],
   "source": [
    "pred = linreg.predict(xtest_tfidf)\n",
    "plt.plot(figsize=(10,5))\n",
    "plt.plot(ytest, pred, \".\")\n",
    "plt.title(\"Prediction vs Real\")\n",
    "plt.xlabel(\"Test Real\")\n",
    "plt.ylabel(\"Test Prediction\")\n",
    "plt.show()\n"
   ]
  },
  {
   "cell_type": "markdown",
   "metadata": {},
   "source": [
    "### Support Vector Regressor"
   ]
  },
  {
   "cell_type": "code",
   "execution_count": 12,
   "metadata": {},
   "outputs": [
    {
     "data": {
      "text/plain": [
       "LinearSVR(C=1, epsilon=0.05, max_iter=10000)"
      ]
     },
     "execution_count": 12,
     "metadata": {},
     "output_type": "execute_result"
    }
   ],
   "source": [
    "from sklearn.svm import LinearSVR\n",
    "svc_regr = LinearSVR(C=1, epsilon=0.05, max_iter=10000)\n",
    "svc_regr.fit(xtrain_tfidf, ytrain)\n"
   ]
  },
  {
   "cell_type": "code",
   "execution_count": 13,
   "metadata": {},
   "outputs": [
    {
     "name": "stdout",
     "output_type": "stream",
     "text": [
      "svc_regr size                         : 7579\n",
      "Train - Root mean squared error     : 888415.74\n",
      "Train - Mean absolute error         : 422135.84\n",
      "Train - Coefficient of determination: -0.29\n",
      "Train - Time elapsed                : 0.0\n",
      "\n",
      "Valid - Root mean squared error     : 881327.01\n",
      "Valid - Mean absolute error         : 428619.07\n",
      "Valid - Coefficient of determination: -0.31\n",
      "Valid - Time elapsed                : 0.0\n",
      "\n",
      "Test - Root mean squared error     : 910742.53\n",
      "Test - Mean absolute error         : 446665.01\n",
      "Test - Coefficient of determination: -0.31\n",
      "Test - Time elapsed                : 0.001\n",
      "\n"
     ]
    }
   ],
   "source": [
    "model_name = \"svc_regr\"\n",
    "p = pickle.dumps(eval(model_name))\n",
    "model_size = sys.getsizeof(p)\n",
    "print(f\"{model_name} size                         : {model_size}\")\n",
    "tr_rmse, tr_mae, tr_r2, tr_time_elapsed  = eval_model(eval(model_name), xtrain_tfidf, ytrain, data_type=\"Train\", prn = True)\n",
    "val_rmse, val_mae, val_r2, val_time_elapsed  = eval_model(eval(model_name), xvalid_tfidf, yvalid, data_type=\"Valid\", prn = True)\n",
    "test_rmse, test_mae, test_r2, test_time_elapsed  = eval_model(eval(model_name), xtest_tfidf, ytest, data_type=\"Test\", prn = True)"
   ]
  },
  {
   "cell_type": "markdown",
   "metadata": {},
   "source": [
    "### Below plow shows the performance of the model, another way of presenting r2 : Bad prediction"
   ]
  },
  {
   "cell_type": "code",
   "execution_count": 14,
   "metadata": {},
   "outputs": [
    {
     "data": {
      "image/png": "[encoded data removed]",
      "text/plain": [
       "<Figure size 432x288 with 1 Axes>"
      ]
     },
     "metadata": {
      "needs_background": "light"
     },
     "output_type": "display_data"
    }
   ],
   "source": [
    "pred = svc_regr.predict(xtest_tfidf)\n",
    "plt.plot(figsize=(10,5))\n",
    "plt.plot(ytest, pred, \".\")\n",
    "plt.title(\"Prediction vs Real\")\n",
    "plt.xlabel(\"Test Real\")\n",
    "plt.ylabel(\"Test Prediction\")\n",
    "plt.show()"
   ]
  },
  {
   "cell_type": "markdown",
   "metadata": {},
   "source": [
    "### Random Forest Regressor"
   ]
  },
  {
   "cell_type": "code",
   "execution_count": 15,
   "metadata": {},
   "outputs": [
    {
     "data": {
      "text/plain": [
       "RandomForestRegressor()"
      ]
     },
     "execution_count": 15,
     "metadata": {},
     "output_type": "execute_result"
    }
   ],
   "source": [
    "from sklearn.ensemble import RandomForestRegressor\n",
    "rand_for_reg = RandomForestRegressor()\n",
    "rand_for_reg.fit(xtrain_tfidf, ytrain)\n"
   ]
  },
  {
   "cell_type": "markdown",
   "metadata": {},
   "source": [
    "### Ada Boost Regressor"
   ]
  },
  {
   "cell_type": "code",
   "execution_count": 16,
   "metadata": {},
   "outputs": [
    {
     "data": {
      "text/plain": [
       "AdaBoostRegressor()"
      ]
     },
     "execution_count": 16,
     "metadata": {},
     "output_type": "execute_result"
    }
   ],
   "source": [
    "from sklearn.ensemble import AdaBoostRegressor\n",
    "ada_boost_reg = AdaBoostRegressor()\n",
    "ada_boost_reg.fit(xtrain_tfidf, ytrain)\n"
   ]
  },
  {
   "cell_type": "markdown",
   "metadata": {},
   "source": [
    "### Gradient Boosting Regressor"
   ]
  },
  {
   "cell_type": "code",
   "execution_count": 17,
   "metadata": {},
   "outputs": [
    {
     "data": {
      "text/plain": [
       "GradientBoostingRegressor()"
      ]
     },
     "execution_count": 17,
     "metadata": {},
     "output_type": "execute_result"
    }
   ],
   "source": [
    "from sklearn.ensemble import GradientBoostingRegressor\n",
    "grd_boost_reg = GradientBoostingRegressor()\n",
    "grd_boost_reg.fit(xtrain_tfidf, ytrain)\n"
   ]
  },
  {
   "cell_type": "code",
   "execution_count": 18,
   "metadata": {},
   "outputs": [],
   "source": [
    "# !pip install xgboost"
   ]
  },
  {
   "cell_type": "markdown",
   "metadata": {},
   "source": [
    "### XGB Regressor"
   ]
  },
  {
   "cell_type": "code",
   "execution_count": 19,
   "metadata": {},
   "outputs": [
    {
     "data": {
      "text/plain": [
       "XGBRegressor(base_score=0.5, booster='gbtree', colsample_bylevel=1,\n",
       "             colsample_bynode=1, colsample_bytree=1, gamma=0, gpu_id=-1,\n",
       "             importance_type='gain', interaction_constraints='',\n",
       "             learning_rate=0.300000012, max_delta_step=0, max_depth=6,\n",
       "             min_child_weight=1, missing=nan, monotone_constraints='()',\n",
       "             n_estimators=100, n_jobs=8, num_parallel_tree=1, random_state=0,\n",
       "             reg_alpha=0, reg_lambda=1, scale_pos_weight=1, subsample=1,\n",
       "             tree_method='exact', validate_parameters=1, verbosity=None)"
      ]
     },
     "execution_count": 19,
     "metadata": {},
     "output_type": "execute_result"
    }
   ],
   "source": [
    "from xgboost import XGBRegressor\n",
    "xgb_reg = XGBRegressor()\n",
    "xgb_reg.fit(xtrain_tfidf, ytrain)\n"
   ]
  },
  {
   "cell_type": "markdown",
   "metadata": {},
   "source": [
    "### Collect all models' performances"
   ]
  },
  {
   "cell_type": "code",
   "execution_count": 20,
   "metadata": {},
   "outputs": [
    {
     "name": "stdout",
     "output_type": "stream",
     "text": [
      "linreg ..... completed\n",
      "svc_regr ..... completed\n",
      "rand_for_reg ..... completed\n",
      "ada_boost_reg ..... completed\n",
      "grd_boost_reg ..... completed\n",
      "xgb_reg ..... completed\n"
     ]
    },
    {
     "data": {
      "text/html": [
       "<div>\n",
       "<style scoped>\n",
       "    .dataframe tbody tr th:only-of-type {\n",
       "        vertical-align: middle;\n",
       "    }\n",
       "\n",
       "    .dataframe tbody tr th {\n",
       "        vertical-align: top;\n",
       "    }\n",
       "\n",
       "    .dataframe thead th {\n",
       "        text-align: right;\n",
       "    }\n",
       "</style>\n",
       "<table border=\"1\" class=\"dataframe\">\n",
       "  <thead>\n",
       "    <tr style=\"text-align: right;\">\n",
       "      <th></th>\n",
       "      <th>Size</th>\n",
       "      <th>Train RMSE</th>\n",
       "      <th>Train MAE</th>\n",
       "      <th>Train R2</th>\n",
       "      <th>Time Elapsed</th>\n",
       "      <th>Valid RMSE</th>\n",
       "      <th>Valid MAE</th>\n",
       "      <th>Valid R2</th>\n",
       "      <th>Valid Elapsed</th>\n",
       "      <th>Test RMSE</th>\n",
       "      <th>Test MAE</th>\n",
       "      <th>Test R2</th>\n",
       "      <th>Test Elapsed</th>\n",
       "    </tr>\n",
       "    <tr>\n",
       "      <th>Model</th>\n",
       "      <th></th>\n",
       "      <th></th>\n",
       "      <th></th>\n",
       "      <th></th>\n",
       "      <th></th>\n",
       "      <th></th>\n",
       "      <th></th>\n",
       "      <th></th>\n",
       "      <th></th>\n",
       "      <th></th>\n",
       "      <th></th>\n",
       "      <th></th>\n",
       "      <th></th>\n",
       "    </tr>\n",
       "  </thead>\n",
       "  <tbody>\n",
       "    <tr>\n",
       "      <th>linreg</th>\n",
       "      <td>7432</td>\n",
       "      <td>109958.6</td>\n",
       "      <td>38663.8</td>\n",
       "      <td>0.98</td>\n",
       "      <td>0.0016</td>\n",
       "      <td>143922.3</td>\n",
       "      <td>51397.7</td>\n",
       "      <td>0.97</td>\n",
       "      <td>0.0000</td>\n",
       "      <td>138415.1</td>\n",
       "      <td>52290.4</td>\n",
       "      <td>0.97</td>\n",
       "      <td>0.0000</td>\n",
       "    </tr>\n",
       "    <tr>\n",
       "      <th>svc_regr</th>\n",
       "      <td>7579</td>\n",
       "      <td>888415.7</td>\n",
       "      <td>422135.8</td>\n",
       "      <td>-0.29</td>\n",
       "      <td>0.0015</td>\n",
       "      <td>881327.0</td>\n",
       "      <td>428619.1</td>\n",
       "      <td>-0.31</td>\n",
       "      <td>0.0000</td>\n",
       "      <td>910742.5</td>\n",
       "      <td>446665.0</td>\n",
       "      <td>-0.31</td>\n",
       "      <td>0.0000</td>\n",
       "    </tr>\n",
       "    <tr>\n",
       "      <th>rand_for_reg</th>\n",
       "      <td>24770494</td>\n",
       "      <td>67211.8</td>\n",
       "      <td>20448.7</td>\n",
       "      <td>0.99</td>\n",
       "      <td>0.1519</td>\n",
       "      <td>134162.6</td>\n",
       "      <td>39441.2</td>\n",
       "      <td>0.97</td>\n",
       "      <td>0.0616</td>\n",
       "      <td>138995.7</td>\n",
       "      <td>42581.3</td>\n",
       "      <td>0.97</td>\n",
       "      <td>0.0275</td>\n",
       "    </tr>\n",
       "    <tr>\n",
       "      <th>ada_boost_reg</th>\n",
       "      <td>36763</td>\n",
       "      <td>219145.3</td>\n",
       "      <td>160038.5</td>\n",
       "      <td>0.92</td>\n",
       "      <td>0.0286</td>\n",
       "      <td>221945.0</td>\n",
       "      <td>161057.6</td>\n",
       "      <td>0.92</td>\n",
       "      <td>0.0103</td>\n",
       "      <td>231910.7</td>\n",
       "      <td>165048.4</td>\n",
       "      <td>0.91</td>\n",
       "      <td>0.0040</td>\n",
       "    </tr>\n",
       "    <tr>\n",
       "      <th>grd_boost_reg</th>\n",
       "      <td>120991</td>\n",
       "      <td>105024.1</td>\n",
       "      <td>39911.1</td>\n",
       "      <td>0.98</td>\n",
       "      <td>0.0120</td>\n",
       "      <td>130199.3</td>\n",
       "      <td>46705.4</td>\n",
       "      <td>0.97</td>\n",
       "      <td>0.0040</td>\n",
       "      <td>131216.3</td>\n",
       "      <td>48082.8</td>\n",
       "      <td>0.97</td>\n",
       "      <td>0.0040</td>\n",
       "    </tr>\n",
       "    <tr>\n",
       "      <th>xgb_reg</th>\n",
       "      <td>218927</td>\n",
       "      <td>70285.5</td>\n",
       "      <td>24723.6</td>\n",
       "      <td>0.99</td>\n",
       "      <td>0.0087</td>\n",
       "      <td>129252.8</td>\n",
       "      <td>38749.2</td>\n",
       "      <td>0.97</td>\n",
       "      <td>0.0041</td>\n",
       "      <td>132213.0</td>\n",
       "      <td>40272.0</td>\n",
       "      <td>0.97</td>\n",
       "      <td>0.0040</td>\n",
       "    </tr>\n",
       "  </tbody>\n",
       "</table>\n",
       "</div>"
      ],
      "text/plain": [
       "                   Size  Train RMSE  Train MAE  Train R2  Time Elapsed  \\\n",
       "Model                                                                    \n",
       "linreg             7432    109958.6    38663.8      0.98        0.0016   \n",
       "svc_regr           7579    888415.7   422135.8     -0.29        0.0015   \n",
       "rand_for_reg   24770494     67211.8    20448.7      0.99        0.1519   \n",
       "ada_boost_reg     36763    219145.3   160038.5      0.92        0.0286   \n",
       "grd_boost_reg    120991    105024.1    39911.1      0.98        0.0120   \n",
       "xgb_reg          218927     70285.5    24723.6      0.99        0.0087   \n",
       "\n",
       "               Valid RMSE  Valid MAE  Valid R2  Valid Elapsed  Test RMSE  \\\n",
       "Model                                                                      \n",
       "linreg           143922.3    51397.7      0.97         0.0000   138415.1   \n",
       "svc_regr         881327.0   428619.1     -0.31         0.0000   910742.5   \n",
       "rand_for_reg     134162.6    39441.2      0.97         0.0616   138995.7   \n",
       "ada_boost_reg    221945.0   161057.6      0.92         0.0103   231910.7   \n",
       "grd_boost_reg    130199.3    46705.4      0.97         0.0040   131216.3   \n",
       "xgb_reg          129252.8    38749.2      0.97         0.0041   132213.0   \n",
       "\n",
       "               Test MAE  Test R2  Test Elapsed  \n",
       "Model                                           \n",
       "linreg          52290.4     0.97        0.0000  \n",
       "svc_regr       446665.0    -0.31        0.0000  \n",
       "rand_for_reg    42581.3     0.97        0.0275  \n",
       "ada_boost_reg  165048.4     0.91        0.0040  \n",
       "grd_boost_reg   48082.8     0.97        0.0040  \n",
       "xgb_reg         40272.0     0.97        0.0040  "
      ]
     },
     "execution_count": 20,
     "metadata": {},
     "output_type": "execute_result"
    }
   ],
   "source": [
    "model_names = [\"linreg\", \"svc_regr\", \"rand_for_reg\", \"ada_boost_reg\", \"grd_boost_reg\", \"xgb_reg\"]\n",
    "for model_name in model_names:\n",
    "    p = pickle.dumps(eval(model_name))\n",
    "    model_size = sys.getsizeof(p)\n",
    "    print(f\"{model_name} ..... completed\")\n",
    "    tr_rmse, tr_mae, tr_r2, tr_time_elapsed  = eval_model(eval(model_name), xtrain_tfidf, ytrain, data_type=\"Train\")\n",
    "    val_rmse, val_mae, val_r2, val_time_elapsed  = eval_model(eval(model_name), xvalid_tfidf, yvalid, data_type=\"Valid\")\n",
    "    test_rmse, test_mae, test_r2, test_time_elapsed  = eval_model(eval(model_name), xtest_tfidf, ytest, data_type=\"Test\")\n",
    "    df_performance.loc[model_name,:] = [model_size, tr_rmse, tr_mae, tr_r2, tr_time_elapsed,\\\n",
    "                                  val_rmse, val_mae, val_r2, val_time_elapsed,\\\n",
    "                                 test_rmse, test_mae, test_r2, test_time_elapsed]\n",
    "df_performance"
   ]
  },
  {
   "cell_type": "markdown",
   "metadata": {},
   "source": [
    "Save results for further comparison with keras models"
   ]
  },
  {
   "cell_type": "code",
   "execution_count": 21,
   "metadata": {},
   "outputs": [],
   "source": [
    "df_performance.to_csv(\"./data/df_performance.csv\",index_label='Model')"
   ]
  },
  {
   "cell_type": "code",
   "execution_count": null,
   "metadata": {},
   "outputs": [],
   "source": []
  }
 ],
 "metadata": {
  "kernelspec": {
   "display_name": "Python [conda env:x_env_con] *",
   "language": "python",
   "name": "conda-env-x_env_con-py"
  },
  "language_info": {
   "codemirror_mode": {
    "name": "ipython",
    "version": 3
   },
   "file_extension": ".py",
   "mimetype": "text/x-python",
   "name": "python",
   "nbconvert_exporter": "python",
   "pygments_lexer": "ipython3",
   "version": "3.8.8"
  }
 },
 "nbformat": 4,
 "nbformat_minor": 4
}
