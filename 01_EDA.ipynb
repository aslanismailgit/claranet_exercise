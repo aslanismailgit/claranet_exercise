{
 "cells": [
  {
   "cell_type": "markdown",
   "metadata": {},
   "source": [
    "## Problem definition\n",
    "The company wants to optimize the performance of its database. Some queries are slower than the others. And the task is to develop a ML model to predict query time using query text."
   ]
  },
  {
   "cell_type": "markdown",
   "metadata": {},
   "source": [
    "## Understanding the data - Exploratory Data Analysis"
   ]
  },
  {
   "cell_type": "code",
   "execution_count": 1,
   "metadata": {},
   "outputs": [],
   "source": [
    "# Import required libraries\n",
    "import pandas as pd\n",
    "import numpy as np \n",
    "\n",
    "import matplotlib.pyplot as plt\n",
    "import seaborn as sns \n",
    "\n",
    "%matplotlib inline"
   ]
  },
  {
   "cell_type": "markdown",
   "metadata": {},
   "source": [
    "### Two dataset are given. Let's start with the general logs"
   ]
  },
  {
   "cell_type": "code",
   "execution_count": 2,
   "metadata": {},
   "outputs": [
    {
     "data": {
      "text/html": [
       "<div>\n",
       "<style scoped>\n",
       "    .dataframe tbody tr th:only-of-type {\n",
       "        vertical-align: middle;\n",
       "    }\n",
       "\n",
       "    .dataframe tbody tr th {\n",
       "        vertical-align: top;\n",
       "    }\n",
       "\n",
       "    .dataframe thead th {\n",
       "        text-align: right;\n",
       "    }\n",
       "</style>\n",
       "<table border=\"1\" class=\"dataframe\">\n",
       "  <thead>\n",
       "    <tr style=\"text-align: right;\">\n",
       "      <th></th>\n",
       "      <th>event_time</th>\n",
       "      <th>user_host</th>\n",
       "      <th>thread_id</th>\n",
       "      <th>server_id</th>\n",
       "      <th>command_type</th>\n",
       "      <th>argument</th>\n",
       "    </tr>\n",
       "  </thead>\n",
       "  <tbody>\n",
       "    <tr>\n",
       "      <th>0</th>\n",
       "      <td>2021-01-14 15:19:54.549896</td>\n",
       "      <td>guest[guest] @  [185.9.209.177]</td>\n",
       "      <td>67</td>\n",
       "      <td>97408076</td>\n",
       "      <td>Query</td>\n",
       "      <td>/* ApplicationName=DataGrip 2020.2.3 */ select...</td>\n",
       "    </tr>\n",
       "    <tr>\n",
       "      <th>1</th>\n",
       "      <td>2021-01-14 15:19:54.489750</td>\n",
       "      <td>guest[guest] @  [185.9.209.177]</td>\n",
       "      <td>67</td>\n",
       "      <td>97408076</td>\n",
       "      <td>Query</td>\n",
       "      <td>/* ApplicationName=DataGrip 2020.2.3 */ SET ne...</td>\n",
       "    </tr>\n",
       "    <tr>\n",
       "      <th>2</th>\n",
       "      <td>2021-01-14 15:19:54.430215</td>\n",
       "      <td>guest[guest] @  [185.9.209.177]</td>\n",
       "      <td>67</td>\n",
       "      <td>97408076</td>\n",
       "      <td>Query</td>\n",
       "      <td>SHOW WARNINGS</td>\n",
       "    </tr>\n",
       "    <tr>\n",
       "      <th>3</th>\n",
       "      <td>2021-01-14 15:19:54.369984</td>\n",
       "      <td>guest[guest] @  [185.9.209.177]</td>\n",
       "      <td>67</td>\n",
       "      <td>97408076</td>\n",
       "      <td>Query</td>\n",
       "      <td>SHOW WARNINGS</td>\n",
       "    </tr>\n",
       "    <tr>\n",
       "      <th>4</th>\n",
       "      <td>2021-01-14 15:19:54.310359</td>\n",
       "      <td>guest[guest] @  [185.9.209.177]</td>\n",
       "      <td>67</td>\n",
       "      <td>97408076</td>\n",
       "      <td>Query</td>\n",
       "      <td>/* ApplicationName=DataGrip 2020.2.3 */ select...</td>\n",
       "    </tr>\n",
       "  </tbody>\n",
       "</table>\n",
       "</div>"
      ],
      "text/plain": [
       "                  event_time                        user_host  thread_id  \\\n",
       "0 2021-01-14 15:19:54.549896  guest[guest] @  [185.9.209.177]         67   \n",
       "1 2021-01-14 15:19:54.489750  guest[guest] @  [185.9.209.177]         67   \n",
       "2 2021-01-14 15:19:54.430215  guest[guest] @  [185.9.209.177]         67   \n",
       "3 2021-01-14 15:19:54.369984  guest[guest] @  [185.9.209.177]         67   \n",
       "4 2021-01-14 15:19:54.310359  guest[guest] @  [185.9.209.177]         67   \n",
       "\n",
       "   server_id command_type                                           argument  \n",
       "0   97408076        Query  /* ApplicationName=DataGrip 2020.2.3 */ select...  \n",
       "1   97408076        Query  /* ApplicationName=DataGrip 2020.2.3 */ SET ne...  \n",
       "2   97408076        Query                                      SHOW WARNINGS  \n",
       "3   97408076        Query                                      SHOW WARNINGS  \n",
       "4   97408076        Query  /* ApplicationName=DataGrip 2020.2.3 */ select...  "
      ]
     },
     "execution_count": 2,
     "metadata": {},
     "output_type": "execute_result"
    }
   ],
   "source": [
    "df_general = pd.read_json(\"./sql-analytics-problem-master/data/general_log.json\")\n",
    "df_general.shape #(16101, 6)\n",
    "df_general.head()\n"
   ]
  },
  {
   "cell_type": "code",
   "execution_count": 3,
   "metadata": {},
   "outputs": [
    {
     "name": "stdout",
     "output_type": "stream",
     "text": [
      "<class 'pandas.core.frame.DataFrame'>\n",
      "RangeIndex: 16101 entries, 0 to 16100\n",
      "Data columns (total 6 columns):\n",
      " #   Column        Non-Null Count  Dtype         \n",
      "---  ------        --------------  -----         \n",
      " 0   event_time    16101 non-null  datetime64[ns]\n",
      " 1   user_host     16101 non-null  object        \n",
      " 2   thread_id     16101 non-null  int64         \n",
      " 3   server_id     16101 non-null  int64         \n",
      " 4   command_type  16101 non-null  object        \n",
      " 5   argument      16101 non-null  object        \n",
      "dtypes: datetime64[ns](1), int64(2), object(3)\n",
      "memory usage: 754.9+ KB\n"
     ]
    }
   ],
   "source": [
    "# check datatypes\n",
    "df_general.info()"
   ]
  },
  {
   "cell_type": "code",
   "execution_count": 4,
   "metadata": {},
   "outputs": [
    {
     "name": "stdout",
     "output_type": "stream",
     "text": [
      "This is a 3.98 hour period\n",
      "Starting at - (first query time)  2021-01-14 11:20:54\n",
      "Ends at  - (last query time)    2021-01-14 15:19:54\n",
      "Total number of queries 16101\n"
     ]
    }
   ],
   "source": [
    "df_general = df_general.sort_values(by=\"event_time\", ascending=False)\n",
    "last_general = df_general[\"event_time\"].max() # last query time\n",
    "first_general = df_general[\"event_time\"].min() # first query time\n",
    "time_delta_general = (last_general - first_general) # dif between first and last query\n",
    "total_seconds_general = time_delta_general.total_seconds()\n",
    "total_time_in_hours_general = total_seconds_general/(60*60)\n",
    "print(f\"This is a {total_time_in_hours_general:.2f} hour period\")\n",
    "print(f\"Starting at - (first query time)  {first_general.strftime('%Y-%m-%d %H:%M:%S')}\")\n",
    "print(f\"Ends at  - (last query time)    {last_general.strftime('%Y-%m-%d %H:%M:%S')}\")\n",
    "print(f\"Total number of queries {len(df_general)}\")"
   ]
  },
  {
   "cell_type": "markdown",
   "metadata": {},
   "source": [
    "Lets see the time differences between requests"
   ]
  },
  {
   "cell_type": "code",
   "execution_count": 5,
   "metadata": {},
   "outputs": [],
   "source": [
    "df_general[\"time_dif\"] = (df_general[\"event_time\"]\n",
    "                            .diff(-1)\n",
    "                            .apply(lambda x: x/np.timedelta64(1, 'ns'))\n",
    "                            .fillna(0)\n",
    "                            .astype('int64'))\n",
    "# df_general.info() make sure time dif is int"
   ]
  },
  {
   "cell_type": "code",
   "execution_count": 6,
   "metadata": {},
   "outputs": [
    {
     "data": {
      "image/png": "[encoded data removed]",
      "text/plain": [
       "<Figure size 720x360 with 1 Axes>"
      ]
     },
     "metadata": {
      "needs_background": "light"
     },
     "output_type": "display_data"
    }
   ],
   "source": [
    "fig, ax = plt.subplots(figsize=(10,5))\n",
    "ax.scatter(df_general.event_time.values, \n",
    "            df_general.time_dif.values, \n",
    "            marker= \".\")\n",
    "ax.set_ylabel(\"Time Difference Between Queries\")\n",
    "ax.set_xlabel(\"Query Time\")\n",
    "ax.set_title(\"Time Difference Between Queries in Time\")\n",
    "plt.xticks(rotation =90, fontsize=8)\n",
    "\n",
    "max_point = df_general[\"time_dif\"].max()\n",
    "t1 = pd.to_datetime(\"2021-01-14 11:27:00\")\n",
    "t2 = pd.to_datetime(\"2021-01-14 12:27:00\")\n",
    "t3 = pd.to_datetime(\"2021-01-14 13:00:00\")\n",
    "t4 = pd.to_datetime(\"2021-01-14 14:27:00\")\n",
    "\n",
    "ax.plot([first_general, first_general], [0, max_point], linewidth=3, linestyle=\"-\")\n",
    "ax.plot([t1, t1], [0, max_point], linewidth=3, linestyle=\"-\")\n",
    "ax.plot([t2, t2], [0, max_point], linewidth=3, linestyle=\"-\")\n",
    "ax.plot([t3, t3], [0, max_point], linewidth=3, linestyle=\"-\")\n",
    "ax.plot([t4, t4], [0, max_point], linewidth=3, linestyle=\"-\")\n",
    "ax.plot([last_general, last_general], [0, max_point], linewidth=3, linestyle=\"-\")\n",
    "\n",
    "plt.show(fig)"
   ]
  },
  {
   "cell_type": "markdown",
   "metadata": {},
   "source": [
    "Let's see the number of queries per second in those high hours"
   ]
  },
  {
   "cell_type": "code",
   "execution_count": 7,
   "metadata": {},
   "outputs": [
    {
     "data": {
      "text/html": [
       "<div>\n",
       "<style scoped>\n",
       "    .dataframe tbody tr th:only-of-type {\n",
       "        vertical-align: middle;\n",
       "    }\n",
       "\n",
       "    .dataframe tbody tr th {\n",
       "        vertical-align: top;\n",
       "    }\n",
       "\n",
       "    .dataframe thead th {\n",
       "        text-align: right;\n",
       "    }\n",
       "</style>\n",
       "<table border=\"1\" class=\"dataframe\">\n",
       "  <thead>\n",
       "    <tr style=\"text-align: right;\">\n",
       "      <th></th>\n",
       "      <th>Time Start</th>\n",
       "      <th>Time End</th>\n",
       "      <th>Number of query</th>\n",
       "      <th>Number of query per second</th>\n",
       "    </tr>\n",
       "  </thead>\n",
       "  <tbody>\n",
       "    <tr>\n",
       "      <th>1</th>\n",
       "      <td>11:20:54</td>\n",
       "      <td>11:27:00</td>\n",
       "      <td>247</td>\n",
       "      <td>0.676</td>\n",
       "    </tr>\n",
       "    <tr>\n",
       "      <th>2</th>\n",
       "      <td>11:27:00</td>\n",
       "      <td>12:27:00</td>\n",
       "      <td>5604</td>\n",
       "      <td>15.333</td>\n",
       "    </tr>\n",
       "    <tr>\n",
       "      <th>3</th>\n",
       "      <td>12:27:00</td>\n",
       "      <td>13:00:00</td>\n",
       "      <td>1325</td>\n",
       "      <td>3.625</td>\n",
       "    </tr>\n",
       "    <tr>\n",
       "      <th>4</th>\n",
       "      <td>13:00:00</td>\n",
       "      <td>14:27:00</td>\n",
       "      <td>6659</td>\n",
       "      <td>18.219</td>\n",
       "    </tr>\n",
       "    <tr>\n",
       "      <th>5</th>\n",
       "      <td>14:27:00</td>\n",
       "      <td>15:19:54</td>\n",
       "      <td>2264</td>\n",
       "      <td>6.194</td>\n",
       "    </tr>\n",
       "  </tbody>\n",
       "</table>\n",
       "</div>"
      ],
      "text/plain": [
       "  Time Start  Time End Number of query Number of query per second\n",
       "1   11:20:54  11:27:00             247                      0.676\n",
       "2   11:27:00  12:27:00            5604                     15.333\n",
       "3   12:27:00  13:00:00            1325                      3.625\n",
       "4   13:00:00  14:27:00            6659                     18.219\n",
       "5   14:27:00  15:19:54            2264                      6.194"
      ]
     },
     "execution_count": 7,
     "metadata": {},
     "output_type": "execute_result"
    }
   ],
   "source": [
    "ts = [first_general, t1, t2, t3, t4, last_general]\n",
    "def number_of_query(df, first, t1, t2, t3, t4, last, col):\n",
    "    df_show = pd.DataFrame(columns = [\"Time Start\", \"Time End\", \"Number of query\", \"Number of query per second\"])\n",
    "    for i in range(len(ts)-1):\n",
    "        mask = (df[col]>ts[i]) & (df[col]<ts[i+1])\n",
    "        new_ind = len(df_show) + 1\n",
    "        df_show.loc[new_ind, :] = ts[i].strftime('%H:%M:%S'), ts[i+1].strftime('%H:%M:%S'), sum(mask), f\"{(sum(mask)/(t1-first).total_seconds()):.3f}\"\n",
    "    return df_show\n",
    "\n",
    "df_query_per_second = number_of_query(df_general, first_general, t1, t2, t3, t4, last_general, col=\"event_time\")\n",
    "df_query_per_second"
   ]
  },
  {
   "cell_type": "markdown",
   "metadata": {},
   "source": [
    "It is obvious that in certain periods times between queries and number of queries are high. As seen above in **11:27 - 12:27** and **13:00 - 14:27** are very high hours "
   ]
  },
  {
   "cell_type": "markdown",
   "metadata": {},
   "source": [
    "### Frequency Plot for time between queries"
   ]
  },
  {
   "cell_type": "code",
   "execution_count": 8,
   "metadata": {
    "scrolled": true
   },
   "outputs": [
    {
     "data": {
      "image/png": "[encoded data removed]",
      "text/plain": [
       "<Figure size 720x360 with 1 Axes>"
      ]
     },
     "metadata": {
      "needs_background": "light"
     },
     "output_type": "display_data"
    }
   ],
   "source": [
    "time_bt_query = df_general[\"time_dif\"].values\n",
    "fig, ax = plt.subplots(figsize=(10,5))\n",
    "ax.hist(time_bt_query, bins=50)\n",
    "ax.set_xlabel(\"Time Difference Between Queries\")\n",
    "ax.set_ylabel(\"Frequency\")\n",
    "ax.set_title('Frequency Histogram')\n",
    "plt.show()"
   ]
  },
  {
   "cell_type": "markdown",
   "metadata": {},
   "source": [
    "### Slow queries"
   ]
  },
  {
   "cell_type": "code",
   "execution_count": 9,
   "metadata": {},
   "outputs": [
    {
     "data": {
      "text/html": [
       "<div>\n",
       "<style scoped>\n",
       "    .dataframe tbody tr th:only-of-type {\n",
       "        vertical-align: middle;\n",
       "    }\n",
       "\n",
       "    .dataframe tbody tr th {\n",
       "        vertical-align: top;\n",
       "    }\n",
       "\n",
       "    .dataframe thead th {\n",
       "        text-align: right;\n",
       "    }\n",
       "</style>\n",
       "<table border=\"1\" class=\"dataframe\">\n",
       "  <thead>\n",
       "    <tr style=\"text-align: right;\">\n",
       "      <th></th>\n",
       "      <th>start_time</th>\n",
       "      <th>user_host</th>\n",
       "      <th>query_time</th>\n",
       "      <th>lock_time</th>\n",
       "      <th>rows_sent</th>\n",
       "      <th>rows_examined</th>\n",
       "      <th>db</th>\n",
       "      <th>last_insert_id</th>\n",
       "      <th>insert_id</th>\n",
       "      <th>server_id</th>\n",
       "      <th>sql_text</th>\n",
       "      <th>thread_id</th>\n",
       "    </tr>\n",
       "  </thead>\n",
       "  <tbody>\n",
       "    <tr>\n",
       "      <th>0</th>\n",
       "      <td>2021-01-14 15:11:51.815988</td>\n",
       "      <td>guest[guest] @  [185.9.209.177]</td>\n",
       "      <td>2021-05-17 00:00:00.000093</td>\n",
       "      <td>2021-05-17</td>\n",
       "      <td>0</td>\n",
       "      <td>0</td>\n",
       "      <td>tpch</td>\n",
       "      <td>0</td>\n",
       "      <td>0</td>\n",
       "      <td>97408076</td>\n",
       "      <td>/* ApplicationName=DataGrip 2020.2.3 */ SET ne...</td>\n",
       "      <td>67</td>\n",
       "    </tr>\n",
       "    <tr>\n",
       "      <th>1</th>\n",
       "      <td>2021-01-14 15:11:51.749969</td>\n",
       "      <td>guest[guest] @  [185.9.209.177]</td>\n",
       "      <td>2021-05-17 00:00:00.000055</td>\n",
       "      <td>2021-05-17</td>\n",
       "      <td>0</td>\n",
       "      <td>0</td>\n",
       "      <td>tpch</td>\n",
       "      <td>0</td>\n",
       "      <td>0</td>\n",
       "      <td>97408076</td>\n",
       "      <td>SHOW WARNINGS</td>\n",
       "      <td>67</td>\n",
       "    </tr>\n",
       "    <tr>\n",
       "      <th>2</th>\n",
       "      <td>2021-01-14 15:11:51.687122</td>\n",
       "      <td>guest[guest] @  [185.9.209.177]</td>\n",
       "      <td>2021-05-17 00:00:00.000076</td>\n",
       "      <td>2021-05-17</td>\n",
       "      <td>0</td>\n",
       "      <td>0</td>\n",
       "      <td>tpch</td>\n",
       "      <td>0</td>\n",
       "      <td>0</td>\n",
       "      <td>97408076</td>\n",
       "      <td>SHOW WARNINGS</td>\n",
       "      <td>67</td>\n",
       "    </tr>\n",
       "    <tr>\n",
       "      <th>3</th>\n",
       "      <td>2021-01-14 15:11:51.623647</td>\n",
       "      <td>guest[guest] @  [185.9.209.177]</td>\n",
       "      <td>2021-05-17 00:00:00.000138</td>\n",
       "      <td>2021-05-17</td>\n",
       "      <td>1</td>\n",
       "      <td>1</td>\n",
       "      <td>tpch</td>\n",
       "      <td>0</td>\n",
       "      <td>0</td>\n",
       "      <td>97408076</td>\n",
       "      <td>/* ApplicationName=DataGrip 2020.2.3 */ select...</td>\n",
       "      <td>67</td>\n",
       "    </tr>\n",
       "    <tr>\n",
       "      <th>4</th>\n",
       "      <td>2021-01-14 15:11:51.562513</td>\n",
       "      <td>guest[guest] @  [185.9.209.177]</td>\n",
       "      <td>2021-05-17 00:00:00.000090</td>\n",
       "      <td>2021-05-17</td>\n",
       "      <td>0</td>\n",
       "      <td>0</td>\n",
       "      <td>tpch</td>\n",
       "      <td>0</td>\n",
       "      <td>0</td>\n",
       "      <td>97408076</td>\n",
       "      <td>/* ApplicationName=DataGrip 2020.2.3 */ SET SQ...</td>\n",
       "      <td>67</td>\n",
       "    </tr>\n",
       "  </tbody>\n",
       "</table>\n",
       "</div>"
      ],
      "text/plain": [
       "                  start_time                        user_host  \\\n",
       "0 2021-01-14 15:11:51.815988  guest[guest] @  [185.9.209.177]   \n",
       "1 2021-01-14 15:11:51.749969  guest[guest] @  [185.9.209.177]   \n",
       "2 2021-01-14 15:11:51.687122  guest[guest] @  [185.9.209.177]   \n",
       "3 2021-01-14 15:11:51.623647  guest[guest] @  [185.9.209.177]   \n",
       "4 2021-01-14 15:11:51.562513  guest[guest] @  [185.9.209.177]   \n",
       "\n",
       "                  query_time  lock_time  rows_sent  rows_examined    db  \\\n",
       "0 2021-05-17 00:00:00.000093 2021-05-17          0              0  tpch   \n",
       "1 2021-05-17 00:00:00.000055 2021-05-17          0              0  tpch   \n",
       "2 2021-05-17 00:00:00.000076 2021-05-17          0              0  tpch   \n",
       "3 2021-05-17 00:00:00.000138 2021-05-17          1              1  tpch   \n",
       "4 2021-05-17 00:00:00.000090 2021-05-17          0              0  tpch   \n",
       "\n",
       "   last_insert_id  insert_id  server_id  \\\n",
       "0               0          0   97408076   \n",
       "1               0          0   97408076   \n",
       "2               0          0   97408076   \n",
       "3               0          0   97408076   \n",
       "4               0          0   97408076   \n",
       "\n",
       "                                            sql_text  thread_id  \n",
       "0  /* ApplicationName=DataGrip 2020.2.3 */ SET ne...         67  \n",
       "1                                      SHOW WARNINGS         67  \n",
       "2                                      SHOW WARNINGS         67  \n",
       "3  /* ApplicationName=DataGrip 2020.2.3 */ select...         67  \n",
       "4  /* ApplicationName=DataGrip 2020.2.3 */ SET SQ...         67  "
      ]
     },
     "execution_count": 9,
     "metadata": {},
     "output_type": "execute_result"
    }
   ],
   "source": [
    "df_slow = pd.read_json(\"./sql-analytics-problem-master/data/slow_log.json\")\n",
    "df_slow.shape #(15688, 12)\n",
    "df_slow.head()"
   ]
  },
  {
   "cell_type": "code",
   "execution_count": 10,
   "metadata": {},
   "outputs": [
    {
     "name": "stdout",
     "output_type": "stream",
     "text": [
      "This is a 3.85 hour period\n",
      "Starting at  2021-01-14 11:20:54\n",
      "Ends at      2021-01-14 15:11:51\n",
      "Total number of queries 16101\n"
     ]
    }
   ],
   "source": [
    "df_slow = df_slow.sort_values(by=\"start_time\", ascending=False)\n",
    "last_slow = df_slow[\"start_time\"].max()\n",
    "first_slow = df_slow[\"start_time\"].min()\n",
    "time_delta_slow = (last_slow - first_slow)\n",
    "total_seconds_slow = time_delta_slow.total_seconds()\n",
    "total_time_in_hours_slow = total_seconds_slow/(60*60)\n",
    "print(f\"This is a {total_time_in_hours_slow:.2f} hour period\")\n",
    "print(f\"Starting at  {first_slow.strftime('%Y-%m-%d %H:%M:%S')}\")\n",
    "print(f\"Ends at      {last_slow.strftime('%Y-%m-%d %H:%M:%S')}\")\n",
    "print(f\"Total number of queries {len(df_general)}\")"
   ]
  },
  {
   "cell_type": "code",
   "execution_count": 11,
   "metadata": {},
   "outputs": [],
   "source": [
    "# turn query times into integer values\n",
    "t_day = df_slow[\"query_time\"][0]\n",
    "t_day = pd.to_datetime(t_day.strftime('%Y-%m-%d'))\n",
    "\n",
    "# t2 = pd.to_datetime(\"2021-05-10\")\n",
    "df_slow[\"query_time_ns\"] = (df_slow[\"query_time\"]\n",
    "                            .apply(lambda x: (x - t_day).total_seconds()*1000000)\n",
    "                            )"
   ]
  },
  {
   "cell_type": "code",
   "execution_count": 12,
   "metadata": {
    "scrolled": true
   },
   "outputs": [
    {
     "data": {
      "image/png": "[encoded data removed]",
      "text/plain": [
       "<Figure size 720x360 with 1 Axes>"
      ]
     },
     "metadata": {
      "needs_background": "light"
     },
     "output_type": "display_data"
    }
   ],
   "source": [
    "fig, ax = plt.subplots(figsize=(10,5))\n",
    "ax.scatter(df_slow.start_time.values, \n",
    "            df_slow.query_time_ns.values, \n",
    "            marker= \".\")\n",
    "ax.set_ylabel(\"Query Time Length\")\n",
    "ax.set_xlabel(\"Time\")\n",
    "ax.set_title(\"Query Time Length\")\n",
    "plt.xticks(rotation =90, fontsize=8)\n",
    "\n",
    "max_point = df_slow[\"query_time_ns\"].max()\n",
    "t1 = pd.to_datetime(\"2021-01-14 11:27:00\")\n",
    "t2 = pd.to_datetime(\"2021-01-14 12:27:00\")\n",
    "t3 = pd.to_datetime(\"2021-01-14 13:00:00\")\n",
    "t4 = pd.to_datetime(\"2021-01-14 14:27:00\")\n",
    "\n",
    "ax.plot([first_slow, first_slow], [0, max_point], linewidth=3, linestyle=\"-\")\n",
    "ax.plot([t1, t1], [0, max_point], linewidth=3, linestyle=\"-\")\n",
    "ax.plot([t2, t2], [0, max_point], linewidth=3, linestyle=\"-\")\n",
    "ax.plot([t3, t3], [0, max_point], linewidth=3, linestyle=\"-\")\n",
    "ax.plot([t4, t4], [0, max_point], linewidth=3, linestyle=\"-\")\n",
    "ax.plot([last_slow, last_slow], [0, max_point], linewidth=3, linestyle=\"-\")\n",
    "\n",
    "ax.plot([t3, t4], [8.5e6, 8.5e6], linewidth=3, linestyle=\"-\")\n",
    "ax.plot([t3, t4], [10e6, 10e6], linewidth=3, linestyle=\"-\")\n",
    "\n",
    "plt.show(fig)"
   ]
  },
  {
   "cell_type": "code",
   "execution_count": 13,
   "metadata": {},
   "outputs": [
    {
     "data": {
      "text/html": [
       "<div>\n",
       "<style scoped>\n",
       "    .dataframe tbody tr th:only-of-type {\n",
       "        vertical-align: middle;\n",
       "    }\n",
       "\n",
       "    .dataframe tbody tr th {\n",
       "        vertical-align: top;\n",
       "    }\n",
       "\n",
       "    .dataframe thead th {\n",
       "        text-align: right;\n",
       "    }\n",
       "</style>\n",
       "<table border=\"1\" class=\"dataframe\">\n",
       "  <thead>\n",
       "    <tr style=\"text-align: right;\">\n",
       "      <th></th>\n",
       "      <th>Time Start</th>\n",
       "      <th>Time End</th>\n",
       "      <th>Number of query</th>\n",
       "      <th>Number of query per second</th>\n",
       "    </tr>\n",
       "  </thead>\n",
       "  <tbody>\n",
       "    <tr>\n",
       "      <th>1</th>\n",
       "      <td>11:20:54</td>\n",
       "      <td>11:27:00</td>\n",
       "      <td>246</td>\n",
       "      <td>0.673</td>\n",
       "    </tr>\n",
       "    <tr>\n",
       "      <th>2</th>\n",
       "      <td>11:27:00</td>\n",
       "      <td>12:27:00</td>\n",
       "      <td>5593</td>\n",
       "      <td>15.310</td>\n",
       "    </tr>\n",
       "    <tr>\n",
       "      <th>3</th>\n",
       "      <td>12:27:00</td>\n",
       "      <td>13:00:00</td>\n",
       "      <td>1318</td>\n",
       "      <td>3.608</td>\n",
       "    </tr>\n",
       "    <tr>\n",
       "      <th>4</th>\n",
       "      <td>13:00:00</td>\n",
       "      <td>14:27:00</td>\n",
       "      <td>6642</td>\n",
       "      <td>18.182</td>\n",
       "    </tr>\n",
       "    <tr>\n",
       "      <th>5</th>\n",
       "      <td>14:27:00</td>\n",
       "      <td>15:11:51</td>\n",
       "      <td>1887</td>\n",
       "      <td>5.165</td>\n",
       "    </tr>\n",
       "  </tbody>\n",
       "</table>\n",
       "</div>"
      ],
      "text/plain": [
       "  Time Start  Time End Number of query Number of query per second\n",
       "1   11:20:54  11:27:00             246                      0.673\n",
       "2   11:27:00  12:27:00            5593                     15.310\n",
       "3   12:27:00  13:00:00            1318                      3.608\n",
       "4   13:00:00  14:27:00            6642                     18.182\n",
       "5   14:27:00  15:11:51            1887                      5.165"
      ]
     },
     "execution_count": 13,
     "metadata": {},
     "output_type": "execute_result"
    }
   ],
   "source": [
    "ts = [first_slow, t1, t2, t3, t4, last_slow]\n",
    "df_query_per_second = number_of_query(df_slow, first_slow, t1, t2, t3, t4, last_slow, col=\"start_time\")\n",
    "df_query_per_second"
   ]
  },
  {
   "cell_type": "markdown",
   "metadata": {},
   "source": [
    "### Investigation of extreme query times\n",
    "This information will be used to remove outliers"
   ]
  },
  {
   "cell_type": "code",
   "execution_count": 14,
   "metadata": {},
   "outputs": [
    {
     "data": {
      "text/plain": [
       "count    1.568800e+04\n",
       "mean     5.464548e+05\n",
       "std      1.211287e+06\n",
       "min      7.000000e+00\n",
       "10%      7.800000e+01\n",
       "20%      1.630000e+02\n",
       "30%      4.841000e+02\n",
       "40%      7.420000e+02\n",
       "50%      1.310500e+03\n",
       "60%      6.946300e+04\n",
       "70%      2.673571e+05\n",
       "80%      1.158366e+06\n",
       "90%      1.685535e+06\n",
       "95%      2.834869e+06\n",
       "99%      4.166627e+06\n",
       "100%     1.107342e+07\n",
       "max      1.107342e+07\n",
       "Name: query_time_ns, dtype: float64"
      ]
     },
     "execution_count": 14,
     "metadata": {},
     "output_type": "execute_result"
    }
   ],
   "source": [
    "summary = df_slow[\"query_time_ns\"]\\\n",
    "    .describe(percentiles=[0.10, 0.20, 0.30, 0.40, 0.50, 0.60, 0.70, 0.80, 0.90, 0.95, 0.99, 1.00])\n",
    "summary"
   ]
  },
  {
   "cell_type": "code",
   "execution_count": 15,
   "metadata": {},
   "outputs": [
    {
     "data": {
      "image/png": "[encoded data removed]",
      "text/plain": [
       "<Figure size 720x360 with 1 Axes>"
      ]
     },
     "metadata": {
      "needs_background": "light"
     },
     "output_type": "display_data"
    }
   ],
   "source": [
    "fig, ax = plt.subplots(figsize=(10,5))\n",
    "ax.hist(df_slow[\"query_time_ns\"], bins=100)\n",
    "ax.set_xlabel(\"Query Time Length\")\n",
    "ax.set_ylabel(\"Frequency\")\n",
    "ax.set_title('Frequency Plot : Query Time Length')\n",
    "ax.axvline(x=summary[\"95%\"], c=\"r\", linestyle=\"--\")\n",
    "plt.show()"
   ]
  }
 ],
 "metadata": {
  "kernelspec": {
   "display_name": "Python 3",
   "language": "python",
   "name": "python3"
  },
  "language_info": {
   "codemirror_mode": {
    "name": "ipython",
    "version": 3
   },
   "file_extension": ".py",
   "mimetype": "text/x-python",
   "name": "python",
   "nbconvert_exporter": "python",
   "pygments_lexer": "ipython3",
   "version": "3.8.8"
  }
 },
 "nbformat": 4,
 "nbformat_minor": 4
}
