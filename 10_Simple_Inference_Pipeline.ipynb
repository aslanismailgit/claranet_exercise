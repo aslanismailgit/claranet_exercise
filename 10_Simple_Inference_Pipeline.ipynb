{
 "cells": [
  {
   "cell_type": "markdown",
   "metadata": {},
   "source": [
    "## Inference"
   ]
  },
  {
   "cell_type": "markdown",
   "metadata": {},
   "source": [
    "Here I will present a simple inference pipeline.\n",
    "Load and make prediction from raw text"
   ]
  },
  {
   "cell_type": "code",
   "execution_count": 1,
   "metadata": {},
   "outputs": [],
   "source": [
    "import pandas as pd\n",
    "import numpy as np\n",
    "import re\n"
   ]
  },
  {
   "cell_type": "markdown",
   "metadata": {},
   "source": [
    "### Load the model"
   ]
  },
  {
   "cell_type": "code",
   "execution_count": 2,
   "metadata": {},
   "outputs": [],
   "source": [
    "from sklearn.pipeline import Pipeline"
   ]
  },
  {
   "cell_type": "code",
   "execution_count": 3,
   "metadata": {},
   "outputs": [],
   "source": [
    "def customize_text(text):\n",
    "    def transform(t):\n",
    "        t = t.lower()\n",
    "        t = t.replace('\\n', ' ').replace('\\r', '')\n",
    "        t = t.replace('\\t', ' ')\n",
    "        t = t.replace(\"/*\", ' ')\n",
    "        t = t.replace(\"2020.2.3\", ' ')\n",
    "        t = t.replace(\"*/\", ' ')\n",
    "        t = t.replace(\"*\", ' star')\n",
    "        t = re.sub(r\"[',.;@#?!&$=())]+\\ *\", \" \", t)\n",
    "        t = t.replace(\"  \", ' ').strip()\n",
    "        return t\n",
    "    text = [transform(t) for t in text]\n",
    "    return text"
   ]
  },
  {
   "cell_type": "code",
   "execution_count": 4,
   "metadata": {},
   "outputs": [],
   "source": [
    "import joblib\n",
    "\n",
    "joblib_pipe_xgb = \"./models/pipe_xgb.sav\"\n",
    "pipe_xgb_model = joblib.load(joblib_pipe_xgb)"
   ]
  },
  {
   "cell_type": "markdown",
   "metadata": {},
   "source": [
    "### Make prediction from row query text"
   ]
  },
  {
   "cell_type": "code",
   "execution_count": 5,
   "metadata": {},
   "outputs": [
    {
     "name": "stdout",
     "output_type": "stream",
     "text": [
      "Query text              : ['SELECT *']\n",
      "Predicted query time    : 306.19\n"
     ]
    }
   ],
   "source": [
    "query_text = [\"SELECT *\"]\n",
    "pred_z = pipe_xgb_model.predict(query_text)\n",
    "pred_y = np.exp(pred_z) - 1 \n",
    "print(f\"Query text              : {query_text}\")\n",
    "print(f\"Predicted query time    : {pred_y[0]:.2f}\")"
   ]
  },
  {
   "cell_type": "code",
   "execution_count": 6,
   "metadata": {},
   "outputs": [
    {
     "name": "stdout",
     "output_type": "stream",
     "text": [
      "Query text              : [\"SELECT * # count(*) from information_schema.TABLES WHERE TABLE_SCHEMA = 'mysql' AND TABLE_NAME = 'rds_heartbeat2'\"]\n",
      "Predicted query time    : 4991.63\n"
     ]
    }
   ],
   "source": [
    "query_text = [\"SELECT * # count(*) from information_schema.TABLES WHERE TABLE_SCHEMA = 'mysql' AND TABLE_NAME = 'rds_heartbeat2'\"]\n",
    "pred_z = pipe_xgb_model.predict(query_text)\n",
    "pred_y = np.exp(pred_z) - 1 \n",
    "print(f\"Query text              : {query_text}\")\n",
    "print(f\"Predicted query time    : {pred_y[0]:.2f}\")"
   ]
  },
  {
   "cell_type": "code",
   "execution_count": 7,
   "metadata": {},
   "outputs": [
    {
     "name": "stdout",
     "output_type": "stream",
     "text": [
      "Query text              : ['/* ApplicationName=DataGrip 2020.2.3 */ select * from mysql.slow_log order by start_time desc']\n",
      "Predicted query time    : 163560.11\n"
     ]
    }
   ],
   "source": [
    "query_text = ['/* ApplicationName=DataGrip 2020.2.3 */ select * from mysql.slow_log order by start_time desc']\n",
    "pred_z = pipe_xgb_model.predict(query_text)\n",
    "pred_y = np.exp(pred_z) - 1 \n",
    "print(f\"Query text              : {query_text}\")\n",
    "print(f\"Predicted query time    : {pred_y[0]:.2f}\")"
   ]
  },
  {
   "cell_type": "code",
   "execution_count": null,
   "metadata": {},
   "outputs": [],
   "source": []
  }
 ],
 "metadata": {
  "kernelspec": {
   "display_name": "Python [conda env:x_env_con] *",
   "language": "python",
   "name": "conda-env-x_env_con-py"
  },
  "language_info": {
   "codemirror_mode": {
    "name": "ipython",
    "version": 3
   },
   "file_extension": ".py",
   "mimetype": "text/x-python",
   "name": "python",
   "nbconvert_exporter": "python",
   "pygments_lexer": "ipython3",
   "version": "3.8.8"
  }
 },
 "nbformat": 4,
 "nbformat_minor": 4
}
