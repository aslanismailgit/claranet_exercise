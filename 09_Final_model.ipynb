{
 "cells": [
  {
   "cell_type": "markdown",
   "metadata": {},
   "source": [
    "# Final model"
   ]
  },
  {
   "cell_type": "markdown",
   "metadata": {},
   "source": [
    "I will go with **xgboost regressor** \n",
    "So I will use the entire data set to create model and create a pipeline to deploy the model\n",
    "We need to create a pipeline including those phases to be able to make a prediction from row sql query text.\n",
    "Pipeline step are:\n",
    "- clean the query text\n",
    "- use the tfidf vectorizer\n",
    "- train model on the entire dataset\n",
    "\n",
    "Then save the model"
   ]
  },
  {
   "cell_type": "code",
   "execution_count": 1,
   "metadata": {},
   "outputs": [],
   "source": [
    "import matplotlib.pyplot as plt\n",
    "import pandas as pd\n",
    "import numpy as np\n",
    "import re\n",
    "import sys\n",
    "import pickle\n",
    "import time"
   ]
  },
  {
   "cell_type": "markdown",
   "metadata": {},
   "source": [
    "## Read data and remove outliers"
   ]
  },
  {
   "cell_type": "code",
   "execution_count": 2,
   "metadata": {},
   "outputs": [
    {
     "name": "stdout",
     "output_type": "stream",
     "text": [
      "(15375, 4) (15375,) (15375,)\n"
     ]
    }
   ],
   "source": [
    "df = pd.read_csv(\"./data/df_slow.csv\")\n",
    "summary = df[\"query_time_ns\"]\\\n",
    "    .describe(percentiles=[0.10, 0.20, 0.30, 0.40, 0.50, 0.60, 0.70, 0.80, 0.90, 0.95, 0.99, 1.00])\n",
    "mask = (df[\"query_time_ns\"]<summary[\"99%\"])\n",
    "sum(mask)\n",
    "\n",
    "df = df[mask]\n",
    "\n",
    "# X = df[\"clean_query\"]\n",
    "X = df[\"sql_text\"]\n",
    "y = df['query_time_ns']\n",
    "print(df.shape, X.shape, y.shape)"
   ]
  },
  {
   "cell_type": "code",
   "execution_count": 3,
   "metadata": {},
   "outputs": [],
   "source": [
    "def customize_text(text):\n",
    "    def transform(t):\n",
    "        t = t.lower()\n",
    "        t = t.replace('\\n', ' ').replace('\\r', '')\n",
    "        t = t.replace('\\t', ' ')\n",
    "        t = t.replace(\"/*\", ' ')\n",
    "        t = t.replace(\"2020.2.3\", ' ')\n",
    "        t = t.replace(\"*/\", ' ')\n",
    "        t = t.replace(\"*\", ' star')\n",
    "        t = re.sub(r\"[',.;@#?!&$=())]+\\ *\", \" \", t)\n",
    "        t = t.replace(\"  \", ' ').strip()\n",
    "        return t\n",
    "    text = [transform(t) for t in text]\n",
    "    return text"
   ]
  },
  {
   "cell_type": "code",
   "execution_count": 4,
   "metadata": {},
   "outputs": [],
   "source": [
    "from sklearn.metrics import mean_squared_error\n",
    "from sklearn.metrics import mean_absolute_error\n",
    "from sklearn.metrics import r2_score\n",
    "\n",
    "def eval_model(model, x, y, data_type, prn = False):\n",
    "    start = time.time()\n",
    "    pred = model.predict(x)\n",
    "    pred = np.exp(pred) - 1 \n",
    "    pred_time = np.round((time.time() - start),4)\n",
    "    if prn:\n",
    "        print(f\"{data_type} - Root mean squared error     : {(mean_squared_error(y, pred, squared=False)):.2f}\")\n",
    "        print(f\"{data_type} - Mean absolute error         : {(mean_absolute_error(y, pred)):.2f}\")\n",
    "        print(f\"{data_type} - Coefficient of determination: {(r2_score(y, pred)):.2f}\")\n",
    "        print(f\"{data_type} - Time elapsed                : {pred_time}\\n\")\n",
    "    return np.round(mean_squared_error(y, pred, squared=False),1), \\\n",
    "            np.round(mean_absolute_error(y, pred),1), \\\n",
    "            np.round(r2_score(y, pred),2), \\\n",
    "            pred_time\n"
   ]
  },
  {
   "cell_type": "code",
   "execution_count": 5,
   "metadata": {},
   "outputs": [],
   "source": [
    "from sklearn.feature_extraction.text import TfidfVectorizer\n",
    "from sklearn.pipeline import Pipeline\n",
    "from sklearn.preprocessing import FunctionTransformer\n"
   ]
  },
  {
   "cell_type": "code",
   "execution_count": 6,
   "metadata": {},
   "outputs": [],
   "source": [
    "custom_text_transformer = FunctionTransformer(customize_text)"
   ]
  },
  {
   "cell_type": "code",
   "execution_count": 7,
   "metadata": {},
   "outputs": [],
   "source": [
    "vectorizer = TfidfVectorizer()"
   ]
  },
  {
   "cell_type": "code",
   "execution_count": 8,
   "metadata": {},
   "outputs": [],
   "source": [
    "from xgboost import XGBRegressor"
   ]
  },
  {
   "cell_type": "code",
   "execution_count": 9,
   "metadata": {},
   "outputs": [],
   "source": [
    "max_depth = 2\n",
    "min_child_weight = 2"
   ]
  },
  {
   "cell_type": "code",
   "execution_count": 10,
   "metadata": {},
   "outputs": [],
   "source": [
    "pipe_xgb = Pipeline(steps=[\n",
    "    ('preprocessor', custom_text_transformer),\n",
    "    ('vectorizer', vectorizer),\n",
    "    ('classifier', XGBRegressor(max_depth = max_depth, min_child_weight = min_child_weight)),\n",
    "])\n",
    "                            "
   ]
  },
  {
   "cell_type": "markdown",
   "metadata": {},
   "source": [
    "To avoid negataive predictions at the production phase I applied a log transformation to **y** and exp transformation to **prediction**"
   ]
  },
  {
   "cell_type": "code",
   "execution_count": 11,
   "metadata": {},
   "outputs": [],
   "source": [
    "z = np.log(1 + y)"
   ]
  },
  {
   "cell_type": "code",
   "execution_count": 12,
   "metadata": {},
   "outputs": [
    {
     "data": {
      "text/plain": [
       "Pipeline(steps=[('preprocessor',\n",
       "                 FunctionTransformer(func=<function customize_text at 0x00000233E7CD0E50>)),\n",
       "                ('vectorizer', TfidfVectorizer()),\n",
       "                ('classifier',\n",
       "                 XGBRegressor(base_score=0.5, booster='gbtree',\n",
       "                              colsample_bylevel=1, colsample_bynode=1,\n",
       "                              colsample_bytree=1, gamma=0, gpu_id=-1,\n",
       "                              importance_type='gain',\n",
       "                              interaction_constraints='',\n",
       "                              learning_rate=0.300000012, max_delta_step=0,\n",
       "                              max_depth=2, min_child_weight=2, missing=nan,\n",
       "                              monotone_constraints='()', n_estimators=100,\n",
       "                              n_jobs=8, num_parallel_tree=1, random_state=0,\n",
       "                              reg_alpha=0, reg_lambda=1, scale_pos_weight=1,\n",
       "                              subsample=1, tree_method='exact',\n",
       "                              validate_parameters=1, verbosity=None))])"
      ]
     },
     "execution_count": 12,
     "metadata": {},
     "output_type": "execute_result"
    }
   ],
   "source": [
    "pipe_xgb.fit(X,z)"
   ]
  },
  {
   "cell_type": "code",
   "execution_count": 13,
   "metadata": {},
   "outputs": [
    {
     "data": {
      "text/plain": [
       "array([ 4.6339703,  4.597088 ,  4.597088 , ...,  4.98147  ,  4.597088 ,\n",
       "       12.004942 ], dtype=float32)"
      ]
     },
     "execution_count": 13,
     "metadata": {},
     "output_type": "execute_result"
    }
   ],
   "source": [
    "pred = pipe_xgb.predict(X)\n",
    "(pred)"
   ]
  },
  {
   "cell_type": "code",
   "execution_count": 14,
   "metadata": {},
   "outputs": [
    {
     "data": {
      "text/plain": [
       "array([1.0192188e+02, 9.8195023e+01, 9.8195023e+01, ..., 1.4468840e+02,\n",
       "       9.8195023e+01, 1.6356011e+05], dtype=float32)"
      ]
     },
     "execution_count": 14,
     "metadata": {},
     "output_type": "execute_result"
    }
   ],
   "source": [
    "# inverse transform\n",
    "pred = np.exp(pred) - 1 \n",
    "pred"
   ]
  },
  {
   "cell_type": "code",
   "execution_count": 15,
   "metadata": {
    "scrolled": true
   },
   "outputs": [
    {
     "name": "stdout",
     "output_type": "stream",
     "text": [
      "Train - Root mean squared error     : 119872.75\n",
      "Train - Mean absolute error         : 42361.00\n",
      "Train - Coefficient of determination: 0.98\n",
      "Train - Time elapsed                : 0.4007\n",
      "\n"
     ]
    }
   ],
   "source": [
    "tr_rmse, tr_mae, tr_r2, tr_time_elapsed  = eval_model(pipe_xgb,  X, y, data_type=\"Train\", prn = True)\n"
   ]
  },
  {
   "cell_type": "code",
   "execution_count": 16,
   "metadata": {},
   "outputs": [
    {
     "data": {
      "text/plain": [
       "['./models/pipe_xgb.sav']"
      ]
     },
     "execution_count": 16,
     "metadata": {},
     "output_type": "execute_result"
    }
   ],
   "source": [
    "import joblib\n",
    "joblib_pipe_xgb = \"./models/pipe_xgb.sav\"\n",
    "joblib.dump(pipe_xgb, joblib_pipe_xgb)"
   ]
  },
  {
   "cell_type": "code",
   "execution_count": 17,
   "metadata": {},
   "outputs": [
    {
     "data": {
      "image/png": "[encoded data removed]",
      "text/plain": [
       "<Figure size 432x288 with 1 Axes>"
      ]
     },
     "metadata": {
      "needs_background": "light"
     },
     "output_type": "display_data"
    }
   ],
   "source": [
    "import matplotlib.pyplot as plt\n",
    "plt.plot(figsize=(10,5))\n",
    "plt.plot(y, pred, \".\")\n",
    "plt.title(\"Prediction vs Real\")\n",
    "plt.xlabel(\"Test Real\")\n",
    "plt.ylabel(\"Test Prediction\")\n",
    "plt.show()"
   ]
  },
  {
   "cell_type": "code",
   "execution_count": 18,
   "metadata": {},
   "outputs": [
    {
     "name": "stdout",
     "output_type": "stream",
     "text": [
      "Query text              : ['/* ApplicationName=DataGrip 2020.2.3 */ select * from mysql.slow_log order by start_time desc']\n",
      "Predicted query time    : 163560.11\n"
     ]
    }
   ],
   "source": [
    "query_text = ['/* ApplicationName=DataGrip 2020.2.3 */ select * from mysql.slow_log order by start_time desc']\n",
    "pred_z = pipe_xgb.predict(query_text)\n",
    "pred_y = np.exp(pred_z) - 1 \n",
    "print(f\"Query text              : {query_text}\")\n",
    "print(f\"Predicted query time    : {pred_y[0]:.2f}\")"
   ]
  },
  {
   "cell_type": "code",
   "execution_count": 19,
   "metadata": {},
   "outputs": [
    {
     "name": "stdout",
     "output_type": "stream",
     "text": [
      "Query text              : ['SELECT *']\n",
      "Predicted query time    : 306.19\n"
     ]
    }
   ],
   "source": [
    "query_text = [\"SELECT *\"]\n",
    "pred_z = pipe_xgb.predict(query_text)\n",
    "pred_y = np.exp(pred_z) - 1 \n",
    "print(f\"Query text              : {query_text}\")\n",
    "print(f\"Predicted query time    : {pred_y[0]:.2f}\")"
   ]
  }
 ],
 "metadata": {
  "kernelspec": {
   "display_name": "Python [conda env:x_env_con] *",
   "language": "python",
   "name": "conda-env-x_env_con-py"
  },
  "language_info": {
   "codemirror_mode": {
    "name": "ipython",
    "version": 3
   },
   "file_extension": ".py",
   "mimetype": "text/x-python",
   "name": "python",
   "nbconvert_exporter": "python",
   "pygments_lexer": "ipython3",
   "version": "3.8.8"
  }
 },
 "nbformat": 4,
 "nbformat_minor": 4
}
