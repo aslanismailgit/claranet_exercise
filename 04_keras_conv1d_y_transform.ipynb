{
 "cells": [
  {
   "cell_type": "markdown",
   "metadata": {},
   "source": [
    "## tf-keras Conv-1d Model with y transform\n",
    "The previous model with original y value was not promising.\n",
    "y values are too large in scale, and I will standardize the ytrain, yvalid using ytrain std and mean.\n",
    "At the final step, I will transform the prediction with using ytrain std and mean.\n",
    "Results are quite good comparing to the previous model."
   ]
  },
  {
   "cell_type": "code",
   "execution_count": 1,
   "metadata": {},
   "outputs": [],
   "source": [
    "# To get r2 as a metric we will use tensorflow-addons\n",
    "# !pip install tensorflow-addons"
   ]
  },
  {
   "cell_type": "code",
   "execution_count": 2,
   "metadata": {
    "scrolled": true
   },
   "outputs": [
    {
     "name": "stdout",
     "output_type": "stream",
     "text": [
      "Version:  2.4.1\n",
      "GPU is available\n"
     ]
    }
   ],
   "source": [
    "import pandas as pd\n",
    "import numpy as np \n",
    "import pickle\n",
    "import time\n",
    "from datetime import datetime\n",
    "import sys\n",
    "\n",
    "from sklearn.model_selection import train_test_split\n",
    "\n",
    "import tensorflow as tf\n",
    "from tensorflow.keras import layers\n",
    "from tensorflow.keras.layers.experimental.preprocessing import TextVectorization\n",
    "import tensorflow_addons as tfa\n",
    "\n",
    "import matplotlib.pyplot as plt\n",
    "import seaborn as sns\n",
    "\n",
    "print(\"Version: \", tf.__version__)\n",
    "print(\"GPU is\", \"available\" if tf.config.list_physical_devices('GPU') else \"NOT AVAILABLE\")\n",
    "\n",
    "# from utils import * \n",
    "# del sys.modules['utils']\n",
    "# from utils import * "
   ]
  },
  {
   "cell_type": "code",
   "execution_count": 3,
   "metadata": {},
   "outputs": [
    {
     "data": {
      "text/plain": [
       "((15375,), (15375,))"
      ]
     },
     "execution_count": 3,
     "metadata": {},
     "output_type": "execute_result"
    }
   ],
   "source": [
    "df = pd.read_csv(\"./data/df_slow.csv\")\n",
    "df.shape\n",
    "summary = df[\"query_time_ns\"]\\\n",
    "    .describe(percentiles=[0.10, 0.20, 0.30, 0.40, 0.50, 0.60, 0.70, 0.80, 0.90, 0.95, 0.99, 1.00])\n",
    "mask = (df[\"query_time_ns\"]<summary[\"99%\"])\n",
    "sum(mask)\n",
    "#%%\n",
    "df = df[mask]\n",
    "y = df['query_time_ns']\n",
    "#%%\n",
    "X = df['clean_query']\n",
    "X.shape, y.shape"
   ]
  },
  {
   "cell_type": "code",
   "execution_count": 4,
   "metadata": {},
   "outputs": [
    {
     "data": {
      "text/plain": [
       "((10762,), (3229,), (1384,), (10762,), (3229,), (1384,))"
      ]
     },
     "execution_count": 4,
     "metadata": {},
     "output_type": "execute_result"
    }
   ],
   "source": [
    "xtrain, xvalid, ytrain, yvalid = train_test_split(X, y, test_size=0.3)\n",
    "xvalid, xtest, yvalid, ytest = train_test_split(xvalid, yvalid, test_size=0.3)\n",
    "xtrain.shape, xvalid.shape, xtest.shape, ytrain.shape, yvalid.shape, ytest.shape"
   ]
  },
  {
   "cell_type": "code",
   "execution_count": 5,
   "metadata": {},
   "outputs": [],
   "source": [
    "m = ytrain.mean()\n",
    "s = ytrain.std()\n",
    "\n",
    "ytrain_transformed = (ytrain-m)/s\n",
    "yvalid_transformed = (yvalid-m)/s\n"
   ]
  },
  {
   "cell_type": "code",
   "execution_count": 6,
   "metadata": {},
   "outputs": [],
   "source": [
    "# Model constants.\n",
    "max_features = 1000\n",
    "embedding_dim = 200\n",
    "sequence_length = 128\n",
    "\n",
    "vectorize_layer = TextVectorization(\n",
    "    standardize=None,\n",
    "    max_tokens=max_features,\n",
    "    output_mode=\"int\",\n",
    "    output_sequence_length=sequence_length,\n",
    ")\n",
    "vectorize_layer.adapt(xtrain.values)"
   ]
  },
  {
   "cell_type": "markdown",
   "metadata": {},
   "source": [
    "Lets test our vectorize layer"
   ]
  },
  {
   "cell_type": "code",
   "execution_count": 7,
   "metadata": {
    "scrolled": true
   },
   "outputs": [
    {
     "name": "stdout",
     "output_type": "stream",
     "text": [
      "Model: \"model\"\n",
      "_________________________________________________________________\n",
      "Layer (type)                 Output Shape              Param #   \n",
      "=================================================================\n",
      "text (InputLayer)            [(None, 1)]               0         \n",
      "_________________________________________________________________\n",
      "text_vectorization (TextVect (None, 128)               0         \n",
      "=================================================================\n",
      "Total params: 0\n",
      "Trainable params: 0\n",
      "Non-trainable params: 0\n",
      "_________________________________________________________________\n"
     ]
    }
   ],
   "source": [
    "text_input = tf.keras.Input(shape=(1,), dtype=tf.string, name='text')\n",
    "x = vectorize_layer(text_input)\n",
    "\n",
    "model_test = tf.keras.Model(text_input, x)\n",
    "model_test.summary()"
   ]
  },
  {
   "cell_type": "markdown",
   "metadata": {},
   "source": [
    "It seems it is working"
   ]
  },
  {
   "cell_type": "code",
   "execution_count": 8,
   "metadata": {},
   "outputs": [
    {
     "data": {
      "text/plain": [
       "<tf.Tensor: shape=(1, 128), dtype=int64, numpy=\n",
       "array([[16,  0,  0,  0,  0,  0,  0,  0,  0,  0,  0,  0,  0,  0,  0,  0,\n",
       "         0,  0,  0,  0,  0,  0,  0,  0,  0,  0,  0,  0,  0,  0,  0,  0,\n",
       "         0,  0,  0,  0,  0,  0,  0,  0,  0,  0,  0,  0,  0,  0,  0,  0,\n",
       "         0,  0,  0,  0,  0,  0,  0,  0,  0,  0,  0,  0,  0,  0,  0,  0,\n",
       "         0,  0,  0,  0,  0,  0,  0,  0,  0,  0,  0,  0,  0,  0,  0,  0,\n",
       "         0,  0,  0,  0,  0,  0,  0,  0,  0,  0,  0,  0,  0,  0,  0,  0,\n",
       "         0,  0,  0,  0,  0,  0,  0,  0,  0,  0,  0,  0,  0,  0,  0,  0,\n",
       "         0,  0,  0,  0,  0,  0,  0,  0,  0,  0,  0,  0,  0,  0,  0,  0]],\n",
       "      dtype=int64)>"
      ]
     },
     "execution_count": 8,
     "metadata": {},
     "output_type": "execute_result"
    }
   ],
   "source": [
    "model_test(tf.constant([\"select\"]))"
   ]
  },
  {
   "cell_type": "markdown",
   "metadata": {},
   "source": [
    "Move onto model creation\n",
    "I will use some callback:\n",
    "- To save best weights during the training\n",
    "- Scheduler for learning rate decay from epoch to epoch\n",
    "- Early stoppling rule to avoid computaional cost\n",
    "- Tensorboard is a tool to evaluate different models/hyperparameters"
   ]
  },
  {
   "cell_type": "code",
   "execution_count": 9,
   "metadata": {},
   "outputs": [],
   "source": [
    "checkpoint_filepath = \"./tmp/checkpoint\"\n",
    "checkpoint_callback = tf.keras.callbacks.ModelCheckpoint(\n",
    "                        filepath=checkpoint_filepath,\n",
    "                        save_weights_only=True,\n",
    "                        monitor='val_r_square',\n",
    "                        mode='min',\n",
    "                        save_best_only=True,\n",
    "                        )   \n",
    "def scheduler(epoch, lr):\n",
    "    return lr * 0.8**epoch \n",
    "\n",
    "early_stopping = tf.keras.callbacks.EarlyStopping(monitor='val_r_square', \n",
    "                                patience=3,\n",
    "                                restore_best_weights=True)\n",
    "logdir=\"logs/fit/\" + datetime.now().strftime(\"%Y%m%d-%H%M%S\")\n",
    "tb_callback = tf.keras.callbacks.TensorBoard(log_dir=logdir)\n",
    "callbacks = [\n",
    "    tf.keras.callbacks.LearningRateScheduler(scheduler, verbose=1),\n",
    "    checkpoint_callback,\n",
    "    early_stopping,\n",
    "    tb_callback,\n",
    "]"
   ]
  },
  {
   "cell_type": "code",
   "execution_count": 10,
   "metadata": {},
   "outputs": [
    {
     "name": "stdout",
     "output_type": "stream",
     "text": [
      "Model: \"model\"\n",
      "_________________________________________________________________\n",
      "Layer (type)                 Output Shape              Param #   \n",
      "=================================================================\n",
      "text (InputLayer)            [(None, 1)]               0         \n",
      "_________________________________________________________________\n",
      "text_vectorization (TextVect (None, 128)               0         \n",
      "_________________________________________________________________\n",
      "embedding (Embedding)        (None, 128, 200)          200200    \n",
      "_________________________________________________________________\n",
      "dropout (Dropout)            (None, 128, 200)          0         \n",
      "_________________________________________________________________\n",
      "conv1d (Conv1D)              (None, 41, 128)           179328    \n",
      "_________________________________________________________________\n",
      "conv1d_1 (Conv1D)            (None, 12, 128)           114816    \n",
      "_________________________________________________________________\n",
      "global_max_pooling1d (Global (None, 128)               0         \n",
      "_________________________________________________________________\n",
      "dense (Dense)                (None, 128)               16512     \n",
      "_________________________________________________________________\n",
      "dropout_1 (Dropout)          (None, 128)               0         \n",
      "_________________________________________________________________\n",
      "predictions (Dense)          (None, 1)                 129       \n",
      "=================================================================\n",
      "Total params: 510,985\n",
      "Trainable params: 510,985\n",
      "Non-trainable params: 0\n",
      "_________________________________________________________________\n"
     ]
    }
   ],
   "source": [
    "tf.keras.backend.clear_session()\n",
    "\n",
    "text_input = tf.keras.Input(shape=(1,), dtype=tf.string, name='text')\n",
    "x = vectorize_layer(text_input)\n",
    "x = layers.Embedding(max_features + 1, embedding_dim)(x)\n",
    "x = layers.Dropout(0.5)(x)\n",
    "\n",
    "x = layers.Conv1D(128, 7, padding=\"valid\", activation=\"relu\", strides=3)(x)\n",
    "x = layers.Conv1D(128, 7, padding=\"valid\", activation=\"relu\", strides=3)(x)\n",
    "x = layers.GlobalMaxPooling1D()(x)\n",
    "\n",
    "x = layers.Dense(128, activation=\"relu\")(x)\n",
    "x = layers.Dropout(0.5)(x)\n",
    "\n",
    "predictions = layers.Dense(1, name=\"predictions\")(x)\n",
    "\n",
    "model = tf.keras.Model(text_input, predictions)\n",
    "\n",
    "model.compile(loss=\"mean_squared_error\", \n",
    "                optimizer=\"adam\", \n",
    "                metrics=[tf.keras.metrics.RootMeanSquaredError(),\n",
    "                         tf.keras.metrics.MeanAbsoluteError(),\n",
    "                         tfa.metrics.RSquare(dtype=tf.float32, y_shape=(1,))])\n",
    "model.summary()"
   ]
  },
  {
   "cell_type": "code",
   "execution_count": 11,
   "metadata": {},
   "outputs": [
    {
     "name": "stdout",
     "output_type": "stream",
     "text": [
      "Epoch 1/30\n",
      "\n",
      "Epoch 00001: LearningRateScheduler reducing learning rate to 0.0010000000474974513.\n",
      "337/337 [==============================] - 28s 76ms/step - loss: 0.2793 - root_mean_squared_error: 0.5050 - mean_absolute_error: 0.3002 - r_square: 0.7302 - val_loss: 0.1024 - val_root_mean_squared_error: 0.3199 - val_mean_absolute_error: 0.2133 - val_r_square: 0.9016\n",
      "Epoch 2/30\n",
      "\n",
      "Epoch 00002: LearningRateScheduler reducing learning rate to 0.000800000037997961.\n",
      "337/337 [==============================] - 24s 72ms/step - loss: 0.0701 - root_mean_squared_error: 0.2644 - mean_absolute_error: 0.1508 - r_square: 0.9311 - val_loss: 0.0413 - val_root_mean_squared_error: 0.2032 - val_mean_absolute_error: 0.1035 - val_r_square: 0.9603\n",
      "Epoch 3/30\n",
      "\n",
      "Epoch 00003: LearningRateScheduler reducing learning rate to 0.0005120000243186951.\n",
      "337/337 [==============================] - 24s 71ms/step - loss: 0.0617 - root_mean_squared_error: 0.2482 - mean_absolute_error: 0.1410 - r_square: 0.9379 - val_loss: 0.0276 - val_root_mean_squared_error: 0.1661 - val_mean_absolute_error: 0.0865 - val_r_square: 0.9735\n",
      "Epoch 4/30\n",
      "\n",
      "Epoch 00004: LearningRateScheduler reducing learning rate to 0.0002621439993381501.\n",
      "337/337 [==============================] - 25s 76ms/step - loss: 0.0520 - root_mean_squared_error: 0.2280 - mean_absolute_error: 0.1293 - r_square: 0.9490 - val_loss: 0.0238 - val_root_mean_squared_error: 0.1543 - val_mean_absolute_error: 0.0724 - val_r_square: 0.9771\n"
     ]
    }
   ],
   "source": [
    "epochs = 30\n",
    "batch_size = 32\n",
    "history = model.fit(xtrain, ytrain_transformed, \n",
    "            validation_data=(xvalid, yvalid_transformed),\n",
    "            epochs=epochs, \n",
    "            batch_size=batch_size,\n",
    "            callbacks=callbacks)"
   ]
  },
  {
   "cell_type": "code",
   "execution_count": 16,
   "metadata": {},
   "outputs": [],
   "source": [
    "pred = model.predict(xtest)\n",
    "pred = (pred * s) + m"
   ]
  },
  {
   "cell_type": "code",
   "execution_count": 17,
   "metadata": {},
   "outputs": [
    {
     "data": {
      "image/png": "[encoded data removed]",
      "text/plain": [
       "<Figure size 432x288 with 1 Axes>"
      ]
     },
     "metadata": {
      "needs_background": "light"
     },
     "output_type": "display_data"
    }
   ],
   "source": [
    "plt.plot(figsize=(10,5))\n",
    "plt.plot(ytest, pred, \".\")\n",
    "plt.title(\"Prediction vs Real\")\n",
    "plt.xlabel(\"Test Real\")\n",
    "plt.ylabel(\"Test Prediction\")\n",
    "plt.show()"
   ]
  },
  {
   "cell_type": "code",
   "execution_count": 25,
   "metadata": {},
   "outputs": [
    {
     "data": {
      "text/plain": [
       "array([[ 109310.28],\n",
       "       [ 276828.8 ],\n",
       "       [1144439.5 ],\n",
       "       ...,\n",
       "       [1107963.  ],\n",
       "       [ 109310.28],\n",
       "       [ 109310.28]], dtype=float32)"
      ]
     },
     "execution_count": 25,
     "metadata": {},
     "output_type": "execute_result"
    }
   ],
   "source": [
    "pred"
   ]
  },
  {
   "cell_type": "code",
   "execution_count": 27,
   "metadata": {
    "scrolled": true
   },
   "outputs": [
    {
     "data": {
      "image/png": "[encoded data removed]",
      "text/plain": [
       "<Figure size 432x288 with 1 Axes>"
      ]
     },
     "metadata": {
      "needs_background": "light"
     },
     "output_type": "display_data"
    }
   ],
   "source": [
    "residuals = ytest - pred[0]\n",
    "plt.plot(figsize=(10,5))\n",
    "plt.plot(residuals, \".\")\n",
    "plt.title(\"Resiuls on Test Set\")\n",
    "plt.xlabel(\"Test Real\")\n",
    "plt.ylabel(\"Test Prediction\")\n",
    "plt.show()"
   ]
  },
  {
   "cell_type": "code",
   "execution_count": 33,
   "metadata": {},
   "outputs": [
    {
     "data": {
      "image/png": "[encoded data removed]",
      "text/plain": [
       "<Figure size 432x288 with 1 Axes>"
      ]
     },
     "metadata": {
      "needs_background": "light"
     },
     "output_type": "display_data"
    }
   ],
   "source": [
    "residuals = ytest - pred[0]\n",
    "mask = (residuals<-107000)\n",
    "plt.plot(figsize=(10,5))\n",
    "plt.plot(residuals[mask], \".\")\n",
    "plt.title(\"Residuls<107000 on Test Set\")\n",
    "plt.xlabel(\"Test Real\")\n",
    "plt.ylabel(\"Test Prediction\")\n",
    "plt.show()"
   ]
  },
  {
   "cell_type": "code",
   "execution_count": 34,
   "metadata": {},
   "outputs": [],
   "source": [
    "from sklearn.metrics import mean_squared_error\n",
    "from sklearn.metrics import mean_absolute_error\n",
    "from sklearn.metrics import r2_score"
   ]
  },
  {
   "cell_type": "code",
   "execution_count": 35,
   "metadata": {},
   "outputs": [],
   "source": [
    "def eval_model(model, x, y, m, s, data_type, prn = False):\n",
    "    start = time.time()\n",
    "    pred = model.predict(x)\n",
    "    pred = (pred * s) + m\n",
    "    pred_time = np.round((time.time() - start),4)\n",
    "    if prn:\n",
    "        print(f\"{data_type} - Root mean squared error     : {(mean_squared_error(y, pred, squared=False)):.2f}\")\n",
    "        print(f\"{data_type} - Mean absolute error         : {(mean_absolute_error(y, pred)):.2f}\")\n",
    "        print(f\"{data_type} - Coefficient of determination: {(r2_score(y, pred)):.2f}\")\n",
    "        print(f\"{data_type} - Time elapsed                : {pred_time}\\n\")\n",
    "    return np.round(mean_squared_error(y, pred, squared=False),1), \\\n",
    "            np.round(mean_absolute_error(y, pred),1), \\\n",
    "            np.round(r2_score(y, pred),2), \\\n",
    "            pred_time"
   ]
  },
  {
   "cell_type": "code",
   "execution_count": 36,
   "metadata": {},
   "outputs": [
    {
     "name": "stdout",
     "output_type": "stream",
     "text": [
      "INFO:tensorflow:Assets written to: ./models/keras_conv1d_y_transform\\assets\n"
     ]
    }
   ],
   "source": [
    "model_name = \"keras_conv1d_y_transform\"\n",
    "model_path = \"./models/\" + model_name\n",
    "model.save(model_path)"
   ]
  },
  {
   "cell_type": "code",
   "execution_count": 37,
   "metadata": {},
   "outputs": [],
   "source": [
    "from pathlib import Path\n",
    "model_directory = Path(model_path)\n",
    "model_size = sum(f.stat().st_size for f in model_directory.glob('**/*') if f.is_file())"
   ]
  },
  {
   "cell_type": "code",
   "execution_count": 38,
   "metadata": {
    "scrolled": true
   },
   "outputs": [
    {
     "name": "stdout",
     "output_type": "stream",
     "text": [
      "model size                         : 6488956\n",
      "Train - Root mean squared error     : 248101.82\n",
      "Train - Mean absolute error         : 164969.54\n",
      "Train - Coefficient of determination: 0.90\n",
      "Train - Time elapsed                : 4.1894\n",
      "\n",
      "Valid - Root mean squared error     : 248354.25\n",
      "Valid - Mean absolute error         : 165562.88\n",
      "Valid - Coefficient of determination: 0.90\n",
      "Valid - Time elapsed                : 0.9288\n",
      "\n",
      "Test - Root mean squared error     : 245817.81\n",
      "Test - Mean absolute error         : 165041.15\n",
      "Test - Coefficient of determination: 0.90\n",
      "Test - Time elapsed                : 0.3614\n",
      "\n"
     ]
    }
   ],
   "source": [
    "print(f\"model size                         : {model_size}\")\n",
    "tr_rmse, tr_mae, tr_r2, tr_time_elapsed  = eval_model(model, xtrain, ytrain, m, s, data_type=\"Train\", prn = True)\n",
    "val_rmse, val_mae, val_r2, val_time_elapsed  = eval_model(model, xvalid, yvalid, m, s, data_type=\"Valid\", prn = True)\n",
    "test_rmse, test_mae, test_r2, test_time_elapsed  = eval_model(model, xtest, ytest, m, s, data_type=\"Test\", prn = True)"
   ]
  },
  {
   "cell_type": "code",
   "execution_count": 39,
   "metadata": {},
   "outputs": [
    {
     "data": {
      "text/html": [
       "<div>\n",
       "<style scoped>\n",
       "    .dataframe tbody tr th:only-of-type {\n",
       "        vertical-align: middle;\n",
       "    }\n",
       "\n",
       "    .dataframe tbody tr th {\n",
       "        vertical-align: top;\n",
       "    }\n",
       "\n",
       "    .dataframe thead th {\n",
       "        text-align: right;\n",
       "    }\n",
       "</style>\n",
       "<table border=\"1\" class=\"dataframe\">\n",
       "  <thead>\n",
       "    <tr style=\"text-align: right;\">\n",
       "      <th></th>\n",
       "      <th>Size</th>\n",
       "      <th>Train RMSE</th>\n",
       "      <th>Train MAE</th>\n",
       "      <th>Train R2</th>\n",
       "      <th>Time Elapsed</th>\n",
       "      <th>Valid RMSE</th>\n",
       "      <th>Valid MAE</th>\n",
       "      <th>Valid R2</th>\n",
       "      <th>Valid Elapsed</th>\n",
       "      <th>Test RMSE</th>\n",
       "      <th>Test MAE</th>\n",
       "      <th>Test R2</th>\n",
       "      <th>Test Elapsed</th>\n",
       "    </tr>\n",
       "    <tr>\n",
       "      <th>Model</th>\n",
       "      <th></th>\n",
       "      <th></th>\n",
       "      <th></th>\n",
       "      <th></th>\n",
       "      <th></th>\n",
       "      <th></th>\n",
       "      <th></th>\n",
       "      <th></th>\n",
       "      <th></th>\n",
       "      <th></th>\n",
       "      <th></th>\n",
       "      <th></th>\n",
       "      <th></th>\n",
       "    </tr>\n",
       "  </thead>\n",
       "  <tbody>\n",
       "    <tr>\n",
       "      <th>linreg</th>\n",
       "      <td>7432.0</td>\n",
       "      <td>109958.6</td>\n",
       "      <td>38663.8</td>\n",
       "      <td>0.98</td>\n",
       "      <td>0.0016</td>\n",
       "      <td>143922.3</td>\n",
       "      <td>51397.7</td>\n",
       "      <td>0.97</td>\n",
       "      <td>0.0000</td>\n",
       "      <td>138415.1</td>\n",
       "      <td>52290.4</td>\n",
       "      <td>0.97</td>\n",
       "      <td>0.0000</td>\n",
       "    </tr>\n",
       "    <tr>\n",
       "      <th>svc_regr</th>\n",
       "      <td>7579.0</td>\n",
       "      <td>888415.7</td>\n",
       "      <td>422135.8</td>\n",
       "      <td>-0.29</td>\n",
       "      <td>0.0015</td>\n",
       "      <td>881327.0</td>\n",
       "      <td>428619.1</td>\n",
       "      <td>-0.31</td>\n",
       "      <td>0.0000</td>\n",
       "      <td>910742.5</td>\n",
       "      <td>446665.0</td>\n",
       "      <td>-0.31</td>\n",
       "      <td>0.0000</td>\n",
       "    </tr>\n",
       "    <tr>\n",
       "      <th>rand_for_reg</th>\n",
       "      <td>24770494.0</td>\n",
       "      <td>67211.8</td>\n",
       "      <td>20448.7</td>\n",
       "      <td>0.99</td>\n",
       "      <td>0.1519</td>\n",
       "      <td>134162.6</td>\n",
       "      <td>39441.2</td>\n",
       "      <td>0.97</td>\n",
       "      <td>0.0616</td>\n",
       "      <td>138995.7</td>\n",
       "      <td>42581.3</td>\n",
       "      <td>0.97</td>\n",
       "      <td>0.0275</td>\n",
       "    </tr>\n",
       "    <tr>\n",
       "      <th>ada_boost_reg</th>\n",
       "      <td>36763.0</td>\n",
       "      <td>219145.3</td>\n",
       "      <td>160038.5</td>\n",
       "      <td>0.92</td>\n",
       "      <td>0.0286</td>\n",
       "      <td>221945.0</td>\n",
       "      <td>161057.6</td>\n",
       "      <td>0.92</td>\n",
       "      <td>0.0103</td>\n",
       "      <td>231910.7</td>\n",
       "      <td>165048.4</td>\n",
       "      <td>0.91</td>\n",
       "      <td>0.0040</td>\n",
       "    </tr>\n",
       "    <tr>\n",
       "      <th>grd_boost_reg</th>\n",
       "      <td>120991.0</td>\n",
       "      <td>105024.1</td>\n",
       "      <td>39911.1</td>\n",
       "      <td>0.98</td>\n",
       "      <td>0.0120</td>\n",
       "      <td>130199.3</td>\n",
       "      <td>46705.4</td>\n",
       "      <td>0.97</td>\n",
       "      <td>0.0040</td>\n",
       "      <td>131216.3</td>\n",
       "      <td>48082.8</td>\n",
       "      <td>0.97</td>\n",
       "      <td>0.0040</td>\n",
       "    </tr>\n",
       "    <tr>\n",
       "      <th>xgb_reg</th>\n",
       "      <td>218927.0</td>\n",
       "      <td>70285.5</td>\n",
       "      <td>24723.6</td>\n",
       "      <td>0.99</td>\n",
       "      <td>0.0087</td>\n",
       "      <td>129252.8</td>\n",
       "      <td>38749.2</td>\n",
       "      <td>0.97</td>\n",
       "      <td>0.0041</td>\n",
       "      <td>132213.0</td>\n",
       "      <td>40272.0</td>\n",
       "      <td>0.97</td>\n",
       "      <td>0.0040</td>\n",
       "    </tr>\n",
       "    <tr>\n",
       "      <th>keras_conv1d</th>\n",
       "      <td>6487298.0</td>\n",
       "      <td>781090.3</td>\n",
       "      <td>594721.1</td>\n",
       "      <td>0.00</td>\n",
       "      <td>3.8083</td>\n",
       "      <td>776082.1</td>\n",
       "      <td>584514.0</td>\n",
       "      <td>0.00</td>\n",
       "      <td>1.1968</td>\n",
       "      <td>786705.2</td>\n",
       "      <td>597160.3</td>\n",
       "      <td>0.00</td>\n",
       "      <td>0.3920</td>\n",
       "    </tr>\n",
       "  </tbody>\n",
       "</table>\n",
       "</div>"
      ],
      "text/plain": [
       "                     Size  Train RMSE  Train MAE  Train R2  Time Elapsed  \\\n",
       "Model                                                                      \n",
       "linreg             7432.0    109958.6    38663.8      0.98        0.0016   \n",
       "svc_regr           7579.0    888415.7   422135.8     -0.29        0.0015   \n",
       "rand_for_reg   24770494.0     67211.8    20448.7      0.99        0.1519   \n",
       "ada_boost_reg     36763.0    219145.3   160038.5      0.92        0.0286   \n",
       "grd_boost_reg    120991.0    105024.1    39911.1      0.98        0.0120   \n",
       "xgb_reg          218927.0     70285.5    24723.6      0.99        0.0087   \n",
       "keras_conv1d    6487298.0    781090.3   594721.1      0.00        3.8083   \n",
       "\n",
       "               Valid RMSE  Valid MAE  Valid R2  Valid Elapsed  Test RMSE  \\\n",
       "Model                                                                      \n",
       "linreg           143922.3    51397.7      0.97         0.0000   138415.1   \n",
       "svc_regr         881327.0   428619.1     -0.31         0.0000   910742.5   \n",
       "rand_for_reg     134162.6    39441.2      0.97         0.0616   138995.7   \n",
       "ada_boost_reg    221945.0   161057.6      0.92         0.0103   231910.7   \n",
       "grd_boost_reg    130199.3    46705.4      0.97         0.0040   131216.3   \n",
       "xgb_reg          129252.8    38749.2      0.97         0.0041   132213.0   \n",
       "keras_conv1d     776082.1   584514.0      0.00         1.1968   786705.2   \n",
       "\n",
       "               Test MAE  Test R2  Test Elapsed  \n",
       "Model                                           \n",
       "linreg          52290.4     0.97        0.0000  \n",
       "svc_regr       446665.0    -0.31        0.0000  \n",
       "rand_for_reg    42581.3     0.97        0.0275  \n",
       "ada_boost_reg  165048.4     0.91        0.0040  \n",
       "grd_boost_reg   48082.8     0.97        0.0040  \n",
       "xgb_reg         40272.0     0.97        0.0040  \n",
       "keras_conv1d   597160.3     0.00        0.3920  "
      ]
     },
     "execution_count": 39,
     "metadata": {},
     "output_type": "execute_result"
    }
   ],
   "source": [
    "df_performance = pd.read_csv(\"./data/df_performance.csv\")\n",
    "df_performance.set_index(\"Model\", inplace=True)\n",
    "df_performance"
   ]
  },
  {
   "cell_type": "code",
   "execution_count": 40,
   "metadata": {},
   "outputs": [
    {
     "data": {
      "text/html": [
       "<div>\n",
       "<style scoped>\n",
       "    .dataframe tbody tr th:only-of-type {\n",
       "        vertical-align: middle;\n",
       "    }\n",
       "\n",
       "    .dataframe tbody tr th {\n",
       "        vertical-align: top;\n",
       "    }\n",
       "\n",
       "    .dataframe thead th {\n",
       "        text-align: right;\n",
       "    }\n",
       "</style>\n",
       "<table border=\"1\" class=\"dataframe\">\n",
       "  <thead>\n",
       "    <tr style=\"text-align: right;\">\n",
       "      <th></th>\n",
       "      <th>Size</th>\n",
       "      <th>Train RMSE</th>\n",
       "      <th>Train MAE</th>\n",
       "      <th>Train R2</th>\n",
       "      <th>Time Elapsed</th>\n",
       "      <th>Valid RMSE</th>\n",
       "      <th>Valid MAE</th>\n",
       "      <th>Valid R2</th>\n",
       "      <th>Valid Elapsed</th>\n",
       "      <th>Test RMSE</th>\n",
       "      <th>Test MAE</th>\n",
       "      <th>Test R2</th>\n",
       "      <th>Test Elapsed</th>\n",
       "    </tr>\n",
       "    <tr>\n",
       "      <th>Model</th>\n",
       "      <th></th>\n",
       "      <th></th>\n",
       "      <th></th>\n",
       "      <th></th>\n",
       "      <th></th>\n",
       "      <th></th>\n",
       "      <th></th>\n",
       "      <th></th>\n",
       "      <th></th>\n",
       "      <th></th>\n",
       "      <th></th>\n",
       "      <th></th>\n",
       "      <th></th>\n",
       "    </tr>\n",
       "  </thead>\n",
       "  <tbody>\n",
       "    <tr>\n",
       "      <th>linreg</th>\n",
       "      <td>7432.0</td>\n",
       "      <td>109958.6</td>\n",
       "      <td>38663.8</td>\n",
       "      <td>0.98</td>\n",
       "      <td>0.0016</td>\n",
       "      <td>143922.3</td>\n",
       "      <td>51397.7</td>\n",
       "      <td>0.97</td>\n",
       "      <td>0.0000</td>\n",
       "      <td>138415.1</td>\n",
       "      <td>52290.4</td>\n",
       "      <td>0.97</td>\n",
       "      <td>0.0000</td>\n",
       "    </tr>\n",
       "    <tr>\n",
       "      <th>svc_regr</th>\n",
       "      <td>7579.0</td>\n",
       "      <td>888415.7</td>\n",
       "      <td>422135.8</td>\n",
       "      <td>-0.29</td>\n",
       "      <td>0.0015</td>\n",
       "      <td>881327.0</td>\n",
       "      <td>428619.1</td>\n",
       "      <td>-0.31</td>\n",
       "      <td>0.0000</td>\n",
       "      <td>910742.5</td>\n",
       "      <td>446665.0</td>\n",
       "      <td>-0.31</td>\n",
       "      <td>0.0000</td>\n",
       "    </tr>\n",
       "    <tr>\n",
       "      <th>rand_for_reg</th>\n",
       "      <td>24770494.0</td>\n",
       "      <td>67211.8</td>\n",
       "      <td>20448.7</td>\n",
       "      <td>0.99</td>\n",
       "      <td>0.1519</td>\n",
       "      <td>134162.6</td>\n",
       "      <td>39441.2</td>\n",
       "      <td>0.97</td>\n",
       "      <td>0.0616</td>\n",
       "      <td>138995.7</td>\n",
       "      <td>42581.3</td>\n",
       "      <td>0.97</td>\n",
       "      <td>0.0275</td>\n",
       "    </tr>\n",
       "    <tr>\n",
       "      <th>ada_boost_reg</th>\n",
       "      <td>36763.0</td>\n",
       "      <td>219145.3</td>\n",
       "      <td>160038.5</td>\n",
       "      <td>0.92</td>\n",
       "      <td>0.0286</td>\n",
       "      <td>221945.0</td>\n",
       "      <td>161057.6</td>\n",
       "      <td>0.92</td>\n",
       "      <td>0.0103</td>\n",
       "      <td>231910.7</td>\n",
       "      <td>165048.4</td>\n",
       "      <td>0.91</td>\n",
       "      <td>0.0040</td>\n",
       "    </tr>\n",
       "    <tr>\n",
       "      <th>grd_boost_reg</th>\n",
       "      <td>120991.0</td>\n",
       "      <td>105024.1</td>\n",
       "      <td>39911.1</td>\n",
       "      <td>0.98</td>\n",
       "      <td>0.0120</td>\n",
       "      <td>130199.3</td>\n",
       "      <td>46705.4</td>\n",
       "      <td>0.97</td>\n",
       "      <td>0.0040</td>\n",
       "      <td>131216.3</td>\n",
       "      <td>48082.8</td>\n",
       "      <td>0.97</td>\n",
       "      <td>0.0040</td>\n",
       "    </tr>\n",
       "    <tr>\n",
       "      <th>xgb_reg</th>\n",
       "      <td>218927.0</td>\n",
       "      <td>70285.5</td>\n",
       "      <td>24723.6</td>\n",
       "      <td>0.99</td>\n",
       "      <td>0.0087</td>\n",
       "      <td>129252.8</td>\n",
       "      <td>38749.2</td>\n",
       "      <td>0.97</td>\n",
       "      <td>0.0041</td>\n",
       "      <td>132213.0</td>\n",
       "      <td>40272.0</td>\n",
       "      <td>0.97</td>\n",
       "      <td>0.0040</td>\n",
       "    </tr>\n",
       "    <tr>\n",
       "      <th>keras_conv1d</th>\n",
       "      <td>6487298.0</td>\n",
       "      <td>781090.3</td>\n",
       "      <td>594721.1</td>\n",
       "      <td>0.00</td>\n",
       "      <td>3.8083</td>\n",
       "      <td>776082.1</td>\n",
       "      <td>584514.0</td>\n",
       "      <td>0.00</td>\n",
       "      <td>1.1968</td>\n",
       "      <td>786705.2</td>\n",
       "      <td>597160.3</td>\n",
       "      <td>0.00</td>\n",
       "      <td>0.3920</td>\n",
       "    </tr>\n",
       "    <tr>\n",
       "      <th>keras_conv1d_y_transform</th>\n",
       "      <td>6488956.0</td>\n",
       "      <td>248101.8</td>\n",
       "      <td>164969.5</td>\n",
       "      <td>0.90</td>\n",
       "      <td>4.1894</td>\n",
       "      <td>248354.3</td>\n",
       "      <td>165562.9</td>\n",
       "      <td>0.90</td>\n",
       "      <td>0.9288</td>\n",
       "      <td>245817.8</td>\n",
       "      <td>165041.1</td>\n",
       "      <td>0.90</td>\n",
       "      <td>0.3614</td>\n",
       "    </tr>\n",
       "  </tbody>\n",
       "</table>\n",
       "</div>"
      ],
      "text/plain": [
       "                                Size  Train RMSE  Train MAE  Train R2  \\\n",
       "Model                                                                   \n",
       "linreg                        7432.0    109958.6    38663.8      0.98   \n",
       "svc_regr                      7579.0    888415.7   422135.8     -0.29   \n",
       "rand_for_reg              24770494.0     67211.8    20448.7      0.99   \n",
       "ada_boost_reg                36763.0    219145.3   160038.5      0.92   \n",
       "grd_boost_reg               120991.0    105024.1    39911.1      0.98   \n",
       "xgb_reg                     218927.0     70285.5    24723.6      0.99   \n",
       "keras_conv1d               6487298.0    781090.3   594721.1      0.00   \n",
       "keras_conv1d_y_transform   6488956.0    248101.8   164969.5      0.90   \n",
       "\n",
       "                          Time Elapsed  Valid RMSE  Valid MAE  Valid R2  \\\n",
       "Model                                                                     \n",
       "linreg                          0.0016    143922.3    51397.7      0.97   \n",
       "svc_regr                        0.0015    881327.0   428619.1     -0.31   \n",
       "rand_for_reg                    0.1519    134162.6    39441.2      0.97   \n",
       "ada_boost_reg                   0.0286    221945.0   161057.6      0.92   \n",
       "grd_boost_reg                   0.0120    130199.3    46705.4      0.97   \n",
       "xgb_reg                         0.0087    129252.8    38749.2      0.97   \n",
       "keras_conv1d                    3.8083    776082.1   584514.0      0.00   \n",
       "keras_conv1d_y_transform        4.1894    248354.3   165562.9      0.90   \n",
       "\n",
       "                          Valid Elapsed  Test RMSE  Test MAE  Test R2  \\\n",
       "Model                                                                   \n",
       "linreg                           0.0000   138415.1   52290.4     0.97   \n",
       "svc_regr                         0.0000   910742.5  446665.0    -0.31   \n",
       "rand_for_reg                     0.0616   138995.7   42581.3     0.97   \n",
       "ada_boost_reg                    0.0103   231910.7  165048.4     0.91   \n",
       "grd_boost_reg                    0.0040   131216.3   48082.8     0.97   \n",
       "xgb_reg                          0.0041   132213.0   40272.0     0.97   \n",
       "keras_conv1d                     1.1968   786705.2  597160.3     0.00   \n",
       "keras_conv1d_y_transform         0.9288   245817.8  165041.1     0.90   \n",
       "\n",
       "                          Test Elapsed  \n",
       "Model                                   \n",
       "linreg                          0.0000  \n",
       "svc_regr                        0.0000  \n",
       "rand_for_reg                    0.0275  \n",
       "ada_boost_reg                   0.0040  \n",
       "grd_boost_reg                   0.0040  \n",
       "xgb_reg                         0.0040  \n",
       "keras_conv1d                    0.3920  \n",
       "keras_conv1d_y_transform        0.3614  "
      ]
     },
     "execution_count": 40,
     "metadata": {},
     "output_type": "execute_result"
    }
   ],
   "source": [
    "df_performance.loc[model_name,:] = [model_size, tr_rmse, tr_mae, tr_r2, tr_time_elapsed,\\\n",
    "                              val_rmse, val_mae, val_r2, val_time_elapsed,\\\n",
    "                             test_rmse, test_mae, test_r2, test_time_elapsed]\n",
    "df_performance"
   ]
  },
  {
   "cell_type": "code",
   "execution_count": 41,
   "metadata": {},
   "outputs": [
    {
     "data": {
      "image/png": "[encoded data removed]",
      "text/plain": [
       "<Figure size 720x720 with 4 Axes>"
      ]
     },
     "metadata": {
      "needs_background": "light"
     },
     "output_type": "display_data"
    }
   ],
   "source": [
    "hist = pd.DataFrame(history.history)\n",
    "x = hist.index+1\n",
    "fig = plt.figure(figsize=(10,10))\n",
    "plt.subplot(221)\n",
    "plt.plot(x, hist.loss, label=\"train\")\n",
    "plt.plot(x, hist.val_loss, label=\"val\")\n",
    "plt.title(\"Loss\")\n",
    "plt.legend()\n",
    "plt.grid(True)\n",
    "\n",
    "plt.subplot(222)\n",
    "plt.plot(x, hist.root_mean_squared_error, label=\"train\")\n",
    "plt.plot(x, hist.val_root_mean_squared_error, label=\"val\")\n",
    "plt.title(\"RMSE\")\n",
    "plt.legend()\n",
    "plt.grid(True)\n",
    "\n",
    "plt.subplot(223)\n",
    "plt.plot(x, hist.mean_absolute_error, label=\"train\")\n",
    "plt.plot(x, hist.val_mean_absolute_error, label=\"val\")\n",
    "plt.title(\"MAE\")\n",
    "plt.legend()\n",
    "plt.grid(True)\n",
    "\n",
    "plt.subplot(224)\n",
    "plt.plot(x, hist.r_square, label=\"train\")\n",
    "plt.plot(x, hist.val_r_square, label=\"val\")\n",
    "plt.title(\"R2\")\n",
    "plt.legend()\n",
    "plt.grid(True)\n",
    "plt.tight_layout()"
   ]
  },
  {
   "cell_type": "code",
   "execution_count": 42,
   "metadata": {},
   "outputs": [],
   "source": [
    "df_performance.to_csv(\"./data/df_performance.csv\",index_label='Model')"
   ]
  },
  {
   "cell_type": "code",
   "execution_count": 43,
   "metadata": {},
   "outputs": [
    {
     "data": {
      "text/html": [
       "<div>\n",
       "<style scoped>\n",
       "    .dataframe tbody tr th:only-of-type {\n",
       "        vertical-align: middle;\n",
       "    }\n",
       "\n",
       "    .dataframe tbody tr th {\n",
       "        vertical-align: top;\n",
       "    }\n",
       "\n",
       "    .dataframe thead th {\n",
       "        text-align: right;\n",
       "    }\n",
       "</style>\n",
       "<table border=\"1\" class=\"dataframe\">\n",
       "  <thead>\n",
       "    <tr style=\"text-align: right;\">\n",
       "      <th></th>\n",
       "      <th>Size</th>\n",
       "      <th>Train RMSE</th>\n",
       "      <th>Train MAE</th>\n",
       "      <th>Train R2</th>\n",
       "      <th>Time Elapsed</th>\n",
       "      <th>Valid RMSE</th>\n",
       "      <th>Valid MAE</th>\n",
       "      <th>Valid R2</th>\n",
       "      <th>Valid Elapsed</th>\n",
       "      <th>Test RMSE</th>\n",
       "      <th>Test MAE</th>\n",
       "      <th>Test R2</th>\n",
       "      <th>Test Elapsed</th>\n",
       "    </tr>\n",
       "    <tr>\n",
       "      <th>Model</th>\n",
       "      <th></th>\n",
       "      <th></th>\n",
       "      <th></th>\n",
       "      <th></th>\n",
       "      <th></th>\n",
       "      <th></th>\n",
       "      <th></th>\n",
       "      <th></th>\n",
       "      <th></th>\n",
       "      <th></th>\n",
       "      <th></th>\n",
       "      <th></th>\n",
       "      <th></th>\n",
       "    </tr>\n",
       "  </thead>\n",
       "  <tbody>\n",
       "    <tr>\n",
       "      <th>linreg</th>\n",
       "      <td>7432.0</td>\n",
       "      <td>109958.6</td>\n",
       "      <td>38663.8</td>\n",
       "      <td>0.98</td>\n",
       "      <td>0.0016</td>\n",
       "      <td>143922.3</td>\n",
       "      <td>51397.7</td>\n",
       "      <td>0.97</td>\n",
       "      <td>0.0000</td>\n",
       "      <td>138415.1</td>\n",
       "      <td>52290.4</td>\n",
       "      <td>0.97</td>\n",
       "      <td>0.0000</td>\n",
       "    </tr>\n",
       "    <tr>\n",
       "      <th>svc_regr</th>\n",
       "      <td>7579.0</td>\n",
       "      <td>888415.7</td>\n",
       "      <td>422135.8</td>\n",
       "      <td>-0.29</td>\n",
       "      <td>0.0015</td>\n",
       "      <td>881327.0</td>\n",
       "      <td>428619.1</td>\n",
       "      <td>-0.31</td>\n",
       "      <td>0.0000</td>\n",
       "      <td>910742.5</td>\n",
       "      <td>446665.0</td>\n",
       "      <td>-0.31</td>\n",
       "      <td>0.0000</td>\n",
       "    </tr>\n",
       "    <tr>\n",
       "      <th>rand_for_reg</th>\n",
       "      <td>24770494.0</td>\n",
       "      <td>67211.8</td>\n",
       "      <td>20448.7</td>\n",
       "      <td>0.99</td>\n",
       "      <td>0.1519</td>\n",
       "      <td>134162.6</td>\n",
       "      <td>39441.2</td>\n",
       "      <td>0.97</td>\n",
       "      <td>0.0616</td>\n",
       "      <td>138995.7</td>\n",
       "      <td>42581.3</td>\n",
       "      <td>0.97</td>\n",
       "      <td>0.0275</td>\n",
       "    </tr>\n",
       "    <tr>\n",
       "      <th>ada_boost_reg</th>\n",
       "      <td>36763.0</td>\n",
       "      <td>219145.3</td>\n",
       "      <td>160038.5</td>\n",
       "      <td>0.92</td>\n",
       "      <td>0.0286</td>\n",
       "      <td>221945.0</td>\n",
       "      <td>161057.6</td>\n",
       "      <td>0.92</td>\n",
       "      <td>0.0103</td>\n",
       "      <td>231910.7</td>\n",
       "      <td>165048.4</td>\n",
       "      <td>0.91</td>\n",
       "      <td>0.0040</td>\n",
       "    </tr>\n",
       "    <tr>\n",
       "      <th>grd_boost_reg</th>\n",
       "      <td>120991.0</td>\n",
       "      <td>105024.1</td>\n",
       "      <td>39911.1</td>\n",
       "      <td>0.98</td>\n",
       "      <td>0.0120</td>\n",
       "      <td>130199.3</td>\n",
       "      <td>46705.4</td>\n",
       "      <td>0.97</td>\n",
       "      <td>0.0040</td>\n",
       "      <td>131216.3</td>\n",
       "      <td>48082.8</td>\n",
       "      <td>0.97</td>\n",
       "      <td>0.0040</td>\n",
       "    </tr>\n",
       "    <tr>\n",
       "      <th>xgb_reg</th>\n",
       "      <td>218927.0</td>\n",
       "      <td>70285.5</td>\n",
       "      <td>24723.6</td>\n",
       "      <td>0.99</td>\n",
       "      <td>0.0087</td>\n",
       "      <td>129252.8</td>\n",
       "      <td>38749.2</td>\n",
       "      <td>0.97</td>\n",
       "      <td>0.0041</td>\n",
       "      <td>132213.0</td>\n",
       "      <td>40272.0</td>\n",
       "      <td>0.97</td>\n",
       "      <td>0.0040</td>\n",
       "    </tr>\n",
       "    <tr>\n",
       "      <th>keras_conv1d</th>\n",
       "      <td>6487298.0</td>\n",
       "      <td>781090.3</td>\n",
       "      <td>594721.1</td>\n",
       "      <td>0.00</td>\n",
       "      <td>3.8083</td>\n",
       "      <td>776082.1</td>\n",
       "      <td>584514.0</td>\n",
       "      <td>0.00</td>\n",
       "      <td>1.1968</td>\n",
       "      <td>786705.2</td>\n",
       "      <td>597160.3</td>\n",
       "      <td>0.00</td>\n",
       "      <td>0.3920</td>\n",
       "    </tr>\n",
       "    <tr>\n",
       "      <th>keras_conv1d_y_transform</th>\n",
       "      <td>6488956.0</td>\n",
       "      <td>248101.8</td>\n",
       "      <td>164969.5</td>\n",
       "      <td>0.90</td>\n",
       "      <td>4.1894</td>\n",
       "      <td>248354.3</td>\n",
       "      <td>165562.9</td>\n",
       "      <td>0.90</td>\n",
       "      <td>0.9288</td>\n",
       "      <td>245817.8</td>\n",
       "      <td>165041.1</td>\n",
       "      <td>0.90</td>\n",
       "      <td>0.3614</td>\n",
       "    </tr>\n",
       "  </tbody>\n",
       "</table>\n",
       "</div>"
      ],
      "text/plain": [
       "                                Size  Train RMSE  Train MAE  Train R2  \\\n",
       "Model                                                                   \n",
       "linreg                        7432.0    109958.6    38663.8      0.98   \n",
       "svc_regr                      7579.0    888415.7   422135.8     -0.29   \n",
       "rand_for_reg              24770494.0     67211.8    20448.7      0.99   \n",
       "ada_boost_reg                36763.0    219145.3   160038.5      0.92   \n",
       "grd_boost_reg               120991.0    105024.1    39911.1      0.98   \n",
       "xgb_reg                     218927.0     70285.5    24723.6      0.99   \n",
       "keras_conv1d               6487298.0    781090.3   594721.1      0.00   \n",
       "keras_conv1d_y_transform   6488956.0    248101.8   164969.5      0.90   \n",
       "\n",
       "                          Time Elapsed  Valid RMSE  Valid MAE  Valid R2  \\\n",
       "Model                                                                     \n",
       "linreg                          0.0016    143922.3    51397.7      0.97   \n",
       "svc_regr                        0.0015    881327.0   428619.1     -0.31   \n",
       "rand_for_reg                    0.1519    134162.6    39441.2      0.97   \n",
       "ada_boost_reg                   0.0286    221945.0   161057.6      0.92   \n",
       "grd_boost_reg                   0.0120    130199.3    46705.4      0.97   \n",
       "xgb_reg                         0.0087    129252.8    38749.2      0.97   \n",
       "keras_conv1d                    3.8083    776082.1   584514.0      0.00   \n",
       "keras_conv1d_y_transform        4.1894    248354.3   165562.9      0.90   \n",
       "\n",
       "                          Valid Elapsed  Test RMSE  Test MAE  Test R2  \\\n",
       "Model                                                                   \n",
       "linreg                           0.0000   138415.1   52290.4     0.97   \n",
       "svc_regr                         0.0000   910742.5  446665.0    -0.31   \n",
       "rand_for_reg                     0.0616   138995.7   42581.3     0.97   \n",
       "ada_boost_reg                    0.0103   231910.7  165048.4     0.91   \n",
       "grd_boost_reg                    0.0040   131216.3   48082.8     0.97   \n",
       "xgb_reg                          0.0041   132213.0   40272.0     0.97   \n",
       "keras_conv1d                     1.1968   786705.2  597160.3     0.00   \n",
       "keras_conv1d_y_transform         0.9288   245817.8  165041.1     0.90   \n",
       "\n",
       "                          Test Elapsed  \n",
       "Model                                   \n",
       "linreg                          0.0000  \n",
       "svc_regr                        0.0000  \n",
       "rand_for_reg                    0.0275  \n",
       "ada_boost_reg                   0.0040  \n",
       "grd_boost_reg                   0.0040  \n",
       "xgb_reg                         0.0040  \n",
       "keras_conv1d                    0.3920  \n",
       "keras_conv1d_y_transform        0.3614  "
      ]
     },
     "execution_count": 43,
     "metadata": {},
     "output_type": "execute_result"
    }
   ],
   "source": [
    "df_per = pd.read_csv(\"./data/df_performance.csv\")\n",
    "df_per.set_index(\"Model\", inplace=True)\n",
    "df_per"
   ]
  },
  {
   "cell_type": "code",
   "execution_count": null,
   "metadata": {},
   "outputs": [],
   "source": []
  }
 ],
 "metadata": {
  "kernelspec": {
   "display_name": "Python [conda env:x_env_con] *",
   "language": "python",
   "name": "conda-env-x_env_con-py"
  },
  "language_info": {
   "codemirror_mode": {
    "name": "ipython",
    "version": 3
   },
   "file_extension": ".py",
   "mimetype": "text/x-python",
   "name": "python",
   "nbconvert_exporter": "python",
   "pygments_lexer": "ipython3",
   "version": "3.8.8"
  }
 },
 "nbformat": 4,
 "nbformat_minor": 4
}
